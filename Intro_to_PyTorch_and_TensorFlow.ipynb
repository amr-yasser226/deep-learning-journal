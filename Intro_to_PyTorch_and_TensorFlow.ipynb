{
  "nbformat": 4,
  "nbformat_minor": 0,
  "metadata": {
    "colab": {
      "provenance": []
    },
    "kernelspec": {
      "name": "python3",
      "display_name": "Python 3"
    },
    "language_info": {
      "name": "python"
    }
  },
  "cells": [
    {
      "cell_type": "markdown",
      "source": [
        "# **Intro to PyTorch**"
      ],
      "metadata": {
        "id": "CTlq83Nig5pt"
      }
    },
    {
      "cell_type": "code",
      "execution_count": null,
      "metadata": {
        "id": "aDDLpEI_zCH2"
      },
      "outputs": [],
      "source": [
        "import torch\n",
        "import torch.nn as nn"
      ]
    },
    {
      "cell_type": "code",
      "source": [
        "# !pip install mitdeeplearning --quiet"
      ],
      "metadata": {
        "colab": {
          "base_uri": "https://localhost:8080/"
        },
        "id": "2MqXu_dozQsh",
        "outputId": "b29c115f-4f04-4f5b-98ae-243bef5683f8"
      },
      "execution_count": null,
      "outputs": [
        {
          "output_type": "stream",
          "name": "stdout",
          "text": [
            "  Preparing metadata (setup.py) ... \u001b[?25l\u001b[?25hdone\n",
            "\u001b[2K     \u001b[90m━━━━━━━━━━━━━━━━━━━━━━━━━━━━━━━━━━━━━━━\u001b[0m \u001b[32m149.3/149.3 kB\u001b[0m \u001b[31m3.8 MB/s\u001b[0m eta \u001b[36m0:00:00\u001b[0m\n",
            "\u001b[2K   \u001b[90m━━━━━━━━━━━━━━━━━━━━━━━━━━━━━━━━━━━━━━━━\u001b[0m \u001b[32m570.6/570.6 kB\u001b[0m \u001b[31m17.0 MB/s\u001b[0m eta \u001b[36m0:00:00\u001b[0m\n",
            "\u001b[2K   \u001b[90m━━━━━━━━━━━━━━━━━━━━━━━━━━━━━━━━━━━━━━━━\u001b[0m \u001b[32m68.7/68.7 kB\u001b[0m \u001b[31m4.6 MB/s\u001b[0m eta \u001b[36m0:00:00\u001b[0m\n",
            "\u001b[2K   \u001b[90m━━━━━━━━━━━━━━━━━━━━━━━━━━━━━━━━━━━━━━━━\u001b[0m \u001b[32m161.7/161.7 kB\u001b[0m \u001b[31m10.1 MB/s\u001b[0m eta \u001b[36m0:00:00\u001b[0m\n",
            "\u001b[2K   \u001b[90m━━━━━━━━━━━━━━━━━━━━━━━━━━━━━━━━━━━━━━━━\u001b[0m \u001b[32m44.4/44.4 kB\u001b[0m \u001b[31m2.4 MB/s\u001b[0m eta \u001b[36m0:00:00\u001b[0m\n",
            "\u001b[2K   \u001b[90m━━━━━━━━━━━━━━━━━━━━━━━━━━━━━━━━━━━━━━━━\u001b[0m \u001b[32m363.4/363.4 MB\u001b[0m \u001b[31m3.7 MB/s\u001b[0m eta \u001b[36m0:00:00\u001b[0m\n",
            "\u001b[2K   \u001b[90m━━━━━━━━━━━━━━━━━━━━━━━━━━━━━━━━━━━━━━━━\u001b[0m \u001b[32m13.8/13.8 MB\u001b[0m \u001b[31m87.9 MB/s\u001b[0m eta \u001b[36m0:00:00\u001b[0m\n",
            "\u001b[2K   \u001b[90m━━━━━━━━━━━━━━━━━━━━━━━━━━━━━━━━━━━━━━━━\u001b[0m \u001b[32m24.6/24.6 MB\u001b[0m \u001b[31m76.4 MB/s\u001b[0m eta \u001b[36m0:00:00\u001b[0m\n",
            "\u001b[2K   \u001b[90m━━━━━━━━━━━━━━━━━━━━━━━━━━━━━━━━━━━━━━━━\u001b[0m \u001b[32m883.7/883.7 kB\u001b[0m \u001b[31m42.8 MB/s\u001b[0m eta \u001b[36m0:00:00\u001b[0m\n",
            "\u001b[2K   \u001b[90m━━━━━━━━━━━━━━━━━━━━━━━━━━━━━━━━━━━━━━━━\u001b[0m \u001b[32m664.8/664.8 MB\u001b[0m \u001b[31m2.2 MB/s\u001b[0m eta \u001b[36m0:00:00\u001b[0m\n",
            "\u001b[2K   \u001b[90m━━━━━━━━━━━━━━━━━━━━━━━━━━━━━━━━━━━━━━━━\u001b[0m \u001b[32m211.5/211.5 MB\u001b[0m \u001b[31m5.8 MB/s\u001b[0m eta \u001b[36m0:00:00\u001b[0m\n",
            "\u001b[2K   \u001b[90m━━━━━━━━━━━━━━━━━━━━━━━━━━━━━━━━━━━━━━━━\u001b[0m \u001b[32m56.3/56.3 MB\u001b[0m \u001b[31m15.8 MB/s\u001b[0m eta \u001b[36m0:00:00\u001b[0m\n",
            "\u001b[2K   \u001b[90m━━━━━━━━━━━━━━━━━━━━━━━━━━━━━━━━━━━━━━━━\u001b[0m \u001b[32m127.9/127.9 MB\u001b[0m \u001b[31m7.4 MB/s\u001b[0m eta \u001b[36m0:00:00\u001b[0m\n",
            "\u001b[2K   \u001b[90m━━━━━━━━━━━━━━━━━━━━━━━━━━━━━━━━━━━━━━━━\u001b[0m \u001b[32m207.5/207.5 MB\u001b[0m \u001b[31m2.8 MB/s\u001b[0m eta \u001b[36m0:00:00\u001b[0m\n",
            "\u001b[2K   \u001b[90m━━━━━━━━━━━━━━━━━━━━━━━━━━━━━━━━━━━━━━━━\u001b[0m \u001b[32m21.1/21.1 MB\u001b[0m \u001b[31m46.7 MB/s\u001b[0m eta \u001b[36m0:00:00\u001b[0m\n",
            "\u001b[2K   \u001b[90m━━━━━━━━━━━━━━━━━━━━━━━━━━━━━━━━━━━━━━━━\u001b[0m \u001b[32m8.0/8.0 MB\u001b[0m \u001b[31m99.9 MB/s\u001b[0m eta \u001b[36m0:00:00\u001b[0m\n",
            "\u001b[2K   \u001b[90m━━━━━━━━━━━━━━━━━━━━━━━━━━━━━━━━━━━━━━━━\u001b[0m \u001b[32m3.1/3.1 MB\u001b[0m \u001b[31m37.5 MB/s\u001b[0m eta \u001b[36m0:00:00\u001b[0m\n",
            "\u001b[2K   \u001b[90m━━━━━━━━━━━━━━━━━━━━━━━━━━━━━━━━━━━━━━━━\u001b[0m \u001b[32m65.6/65.6 kB\u001b[0m \u001b[31m4.3 MB/s\u001b[0m eta \u001b[36m0:00:00\u001b[0m\n",
            "\u001b[?25h  Building wheel for mitdeeplearning (setup.py) ... \u001b[?25l\u001b[?25hdone\n"
          ]
        }
      ]
    },
    {
      "cell_type": "code",
      "source": [
        "import mitdeeplearning as mdl\n",
        "\n",
        "\n",
        "import numpy as np\n",
        "import matplotlib.pyplot as plt"
      ],
      "metadata": {
        "id": "JKhZLVLPzhn1"
      },
      "execution_count": null,
      "outputs": []
    },
    {
      "cell_type": "code",
      "source": [
        "# 0-D\n",
        "integer = torch.tensor(1234)\n",
        "decimal = torch.tensor(3.14159265359)\n",
        "\n",
        "print(f\"`integer` is a {integer.ndim}-d Tensor: {integer}\")\n",
        "print(f\"`decimal` is a {decimal.ndim}-d Tensor: {decimal}\")"
      ],
      "metadata": {
        "colab": {
          "base_uri": "https://localhost:8080/"
        },
        "id": "u-M7G1_61DyF",
        "outputId": "953bcaf6-e29d-432e-9e63-d619b1474560"
      },
      "execution_count": null,
      "outputs": [
        {
          "output_type": "stream",
          "name": "stdout",
          "text": [
            "`integer` is a 0-d Tensor: 1234\n",
            "`decimal` is a 0-d Tensor: 3.1415927410125732\n"
          ]
        }
      ]
    },
    {
      "cell_type": "code",
      "source": [
        "#1-D\n",
        "fibonacci = torch.tensor([1, 1, 2, 3, 5, 8])\n",
        "count_to_100 = torch.tensor(range(100))\n",
        "\n",
        "print(f\"`fibonacci` is a {fibonacci.ndim}-d Tensor with shape: {fibonacci.shape}\")\n",
        "print(f\"`count_to_100` is a {count_to_100.ndim}-d Tensor with shape: {count_to_100.shape}\")"
      ],
      "metadata": {
        "colab": {
          "base_uri": "https://localhost:8080/"
        },
        "id": "p8K_5ggu1agA",
        "outputId": "c1ecf2a3-bef5-4828-c39c-1ec9eceeda4f"
      },
      "execution_count": null,
      "outputs": [
        {
          "output_type": "stream",
          "name": "stdout",
          "text": [
            "`fibonacci` is a 1-d Tensor with shape: torch.Size([6])\n",
            "`count_to_100` is a 1-d Tensor with shape: torch.Size([100])\n"
          ]
        }
      ]
    },
    {
      "cell_type": "code",
      "source": [
        "matrix = torch.tensor([[1, 2, 3, 4], [1, 6, 9, 7]])\n",
        "\n",
        "print(matrix.ndim)"
      ],
      "metadata": {
        "colab": {
          "base_uri": "https://localhost:8080/"
        },
        "id": "Yr_cersq1xlC",
        "outputId": "6eb04a68-6a8e-48a1-adaa-6e04cd06a717"
      },
      "execution_count": null,
      "outputs": [
        {
          "output_type": "stream",
          "name": "stdout",
          "text": [
            "2\n"
          ]
        }
      ]
    },
    {
      "cell_type": "code",
      "source": [
        "assert isinstance(matrix, torch.Tensor), \"matrix must be a torch Tensor object\"\n",
        "assert matrix.ndim == 2"
      ],
      "metadata": {
        "id": "AzaarRwp2ajw"
      },
      "execution_count": null,
      "outputs": []
    },
    {
      "cell_type": "code",
      "source": [
        "images = torch.tensor([[1, 2, 3, 4], [1, 6, 9, 7], [1, 6, 9, 7], [1, 6, 9, 7]])"
      ],
      "metadata": {
        "id": "ifUuo9kF2jJF"
      },
      "execution_count": null,
      "outputs": []
    },
    {
      "cell_type": "code",
      "source": [
        "row_vector = matrix[1]\n",
        "column_vector = matrix[:, 1]\n",
        "scalar = matrix[0, 1]\n",
        "\n",
        "print(f\"`row_vector`: {row_vector}\")\n",
        "print(f\"`column_vector`: {column_vector}\")\n",
        "print(f\"`scalar`: {scalar}\")"
      ],
      "metadata": {
        "colab": {
          "base_uri": "https://localhost:8080/"
        },
        "id": "FJzvgRJL3HmG",
        "outputId": "d6a4e936-d8c3-4871-86fc-030566a2a8e5"
      },
      "execution_count": null,
      "outputs": [
        {
          "output_type": "stream",
          "name": "stdout",
          "text": [
            "`row_vector`: tensor([1, 6, 9, 7])\n",
            "`column_vector`: tensor([2, 6])\n",
            "`scalar`: 2\n"
          ]
        }
      ]
    },
    {
      "cell_type": "code",
      "source": [
        "a = torch.tensor(80)\n",
        "b = torch.tensor(20)\n",
        "\n",
        "c1 = torch.add(a, b)\n",
        "c2 = a = b\n",
        "\n",
        "print(f'c1 = {c1}')\n",
        "print(f'c2 = {c2}')"
      ],
      "metadata": {
        "colab": {
          "base_uri": "https://localhost:8080/"
        },
        "id": "lNm__kBG3a7U",
        "outputId": "d03e922d-462c-4a85-c92e-92daff6b35e7"
      },
      "execution_count": null,
      "outputs": [
        {
          "output_type": "stream",
          "name": "stdout",
          "text": [
            "c1 = 100\n",
            "c2 = 20\n"
          ]
        }
      ]
    },
    {
      "cell_type": "code",
      "source": [
        "# help(torch.nn.Linear)"
      ],
      "metadata": {
        "collapsed": true,
        "colab": {
          "base_uri": "https://localhost:8080/"
        },
        "id": "vw47FAJb9A-v",
        "outputId": "67307458-e03c-4ac8-9204-711deaa984f8"
      },
      "execution_count": null,
      "outputs": [
        {
          "output_type": "stream",
          "name": "stdout",
          "text": [
            "Help on class Linear in module torch.nn.modules.linear:\n",
            "\n",
            "class Linear(torch.nn.modules.module.Module)\n",
            " |  Linear(in_features: int, out_features: int, bias: bool = True, device=None, dtype=None) -> None\n",
            " |  \n",
            " |  Applies an affine linear transformation to the incoming data: :math:`y = xA^T + b`.\n",
            " |  \n",
            " |  This module supports :ref:`TensorFloat32<tf32_on_ampere>`.\n",
            " |  \n",
            " |  On certain ROCm devices, when using float16 inputs this module will use :ref:`different precision<fp16_on_mi200>` for backward.\n",
            " |  \n",
            " |  Args:\n",
            " |      in_features: size of each input sample\n",
            " |      out_features: size of each output sample\n",
            " |      bias: If set to ``False``, the layer will not learn an additive bias.\n",
            " |          Default: ``True``\n",
            " |  \n",
            " |  Shape:\n",
            " |      - Input: :math:`(*, H_{in})` where :math:`*` means any number of\n",
            " |        dimensions including none and :math:`H_{in} = \\text{in\\_features}`.\n",
            " |      - Output: :math:`(*, H_{out})` where all but the last dimension\n",
            " |        are the same shape as the input and :math:`H_{out} = \\text{out\\_features}`.\n",
            " |  \n",
            " |  Attributes:\n",
            " |      weight: the learnable weights of the module of shape\n",
            " |          :math:`(\\text{out\\_features}, \\text{in\\_features})`. The values are\n",
            " |          initialized from :math:`\\mathcal{U}(-\\sqrt{k}, \\sqrt{k})`, where\n",
            " |          :math:`k = \\frac{1}{\\text{in\\_features}}`\n",
            " |      bias:   the learnable bias of the module of shape :math:`(\\text{out\\_features})`.\n",
            " |              If :attr:`bias` is ``True``, the values are initialized from\n",
            " |              :math:`\\mathcal{U}(-\\sqrt{k}, \\sqrt{k})` where\n",
            " |              :math:`k = \\frac{1}{\\text{in\\_features}}`\n",
            " |  \n",
            " |  Examples::\n",
            " |  \n",
            " |      >>> m = nn.Linear(20, 30)\n",
            " |      >>> input = torch.randn(128, 20)\n",
            " |      >>> output = m(input)\n",
            " |      >>> print(output.size())\n",
            " |      torch.Size([128, 30])\n",
            " |  \n",
            " |  Method resolution order:\n",
            " |      Linear\n",
            " |      torch.nn.modules.module.Module\n",
            " |      builtins.object\n",
            " |  \n",
            " |  Methods defined here:\n",
            " |  \n",
            " |  __init__(self, in_features: int, out_features: int, bias: bool = True, device=None, dtype=None) -> None\n",
            " |      Initialize internal Module state, shared by both nn.Module and ScriptModule.\n",
            " |  \n",
            " |  extra_repr(self) -> str\n",
            " |      Return the extra representation of the module.\n",
            " |      \n",
            " |      To print customized extra information, you should re-implement\n",
            " |      this method in your own modules. Both single-line and multi-line\n",
            " |      strings are acceptable.\n",
            " |  \n",
            " |  forward(self, input: torch.Tensor) -> torch.Tensor\n",
            " |      Define the computation performed at every call.\n",
            " |      \n",
            " |      Should be overridden by all subclasses.\n",
            " |      \n",
            " |      .. note::\n",
            " |          Although the recipe for forward pass needs to be defined within\n",
            " |          this function, one should call the :class:`Module` instance afterwards\n",
            " |          instead of this since the former takes care of running the\n",
            " |          registered hooks while the latter silently ignores them.\n",
            " |  \n",
            " |  reset_parameters(self) -> None\n",
            " |  \n",
            " |  ----------------------------------------------------------------------\n",
            " |  Data and other attributes defined here:\n",
            " |  \n",
            " |  __annotations__ = {'in_features': <class 'int'>, 'out_features': <clas...\n",
            " |  \n",
            " |  __constants__ = ['in_features', 'out_features']\n",
            " |  \n",
            " |  ----------------------------------------------------------------------\n",
            " |  Methods inherited from torch.nn.modules.module.Module:\n",
            " |  \n",
            " |  __call__ = _wrapped_call_impl(self, *args, **kwargs)\n",
            " |  \n",
            " |  __delattr__(self, name)\n",
            " |      Implement delattr(self, name).\n",
            " |  \n",
            " |  __dir__(self)\n",
            " |      Default dir() implementation.\n",
            " |  \n",
            " |  __getattr__(self, name: str) -> Union[torch.Tensor, ForwardRef('Module')]\n",
            " |      # It is crucial that the return type is not annotated as `Any`, otherwise type checking\n",
            " |      # on `torch.nn.Module` and all its subclasses is largely disabled as a result. See:\n",
            " |      # https://github.com/pytorch/pytorch/pull/115074\n",
            " |  \n",
            " |  __getstate__(self)\n",
            " |      Helper for pickle.\n",
            " |  \n",
            " |  __repr__(self)\n",
            " |      Return repr(self).\n",
            " |  \n",
            " |  __setattr__(self, name: str, value: Union[torch.Tensor, ForwardRef('Module')]) -> None\n",
            " |      Implement setattr(self, name, value).\n",
            " |  \n",
            " |  __setstate__(self, state)\n",
            " |  \n",
            " |  add_module(self, name: str, module: Optional[ForwardRef('Module')]) -> None\n",
            " |      Add a child module to the current module.\n",
            " |      \n",
            " |      The module can be accessed as an attribute using the given name.\n",
            " |      \n",
            " |      Args:\n",
            " |          name (str): name of the child module. The child module can be\n",
            " |              accessed from this module using the given name\n",
            " |          module (Module): child module to be added to the module.\n",
            " |  \n",
            " |  apply(self: ~T, fn: Callable[[ForwardRef('Module')], NoneType]) -> ~T\n",
            " |      Apply ``fn`` recursively to every submodule (as returned by ``.children()``) as well as self.\n",
            " |      \n",
            " |      Typical use includes initializing the parameters of a model\n",
            " |      (see also :ref:`nn-init-doc`).\n",
            " |      \n",
            " |      Args:\n",
            " |          fn (:class:`Module` -> None): function to be applied to each submodule\n",
            " |      \n",
            " |      Returns:\n",
            " |          Module: self\n",
            " |      \n",
            " |      Example::\n",
            " |      \n",
            " |          >>> @torch.no_grad()\n",
            " |          >>> def init_weights(m):\n",
            " |          >>>     print(m)\n",
            " |          >>>     if type(m) == nn.Linear:\n",
            " |          >>>         m.weight.fill_(1.0)\n",
            " |          >>>         print(m.weight)\n",
            " |          >>> net = nn.Sequential(nn.Linear(2, 2), nn.Linear(2, 2))\n",
            " |          >>> net.apply(init_weights)\n",
            " |          Linear(in_features=2, out_features=2, bias=True)\n",
            " |          Parameter containing:\n",
            " |          tensor([[1., 1.],\n",
            " |                  [1., 1.]], requires_grad=True)\n",
            " |          Linear(in_features=2, out_features=2, bias=True)\n",
            " |          Parameter containing:\n",
            " |          tensor([[1., 1.],\n",
            " |                  [1., 1.]], requires_grad=True)\n",
            " |          Sequential(\n",
            " |            (0): Linear(in_features=2, out_features=2, bias=True)\n",
            " |            (1): Linear(in_features=2, out_features=2, bias=True)\n",
            " |          )\n",
            " |  \n",
            " |  bfloat16(self: ~T) -> ~T\n",
            " |      Casts all floating point parameters and buffers to ``bfloat16`` datatype.\n",
            " |      \n",
            " |      .. note::\n",
            " |          This method modifies the module in-place.\n",
            " |      \n",
            " |      Returns:\n",
            " |          Module: self\n",
            " |  \n",
            " |  buffers(self, recurse: bool = True) -> Iterator[torch.Tensor]\n",
            " |      Return an iterator over module buffers.\n",
            " |      \n",
            " |      Args:\n",
            " |          recurse (bool): if True, then yields buffers of this module\n",
            " |              and all submodules. Otherwise, yields only buffers that\n",
            " |              are direct members of this module.\n",
            " |      \n",
            " |      Yields:\n",
            " |          torch.Tensor: module buffer\n",
            " |      \n",
            " |      Example::\n",
            " |      \n",
            " |          >>> # xdoctest: +SKIP(\"undefined vars\")\n",
            " |          >>> for buf in model.buffers():\n",
            " |          >>>     print(type(buf), buf.size())\n",
            " |          <class 'torch.Tensor'> (20L,)\n",
            " |          <class 'torch.Tensor'> (20L, 1L, 5L, 5L)\n",
            " |  \n",
            " |  children(self) -> Iterator[ForwardRef('Module')]\n",
            " |      Return an iterator over immediate children modules.\n",
            " |      \n",
            " |      Yields:\n",
            " |          Module: a child module\n",
            " |  \n",
            " |  compile(self, *args, **kwargs)\n",
            " |      Compile this Module's forward using :func:`torch.compile`.\n",
            " |      \n",
            " |      This Module's `__call__` method is compiled and all arguments are passed as-is\n",
            " |      to :func:`torch.compile`.\n",
            " |      \n",
            " |      See :func:`torch.compile` for details on the arguments for this function.\n",
            " |  \n",
            " |  cpu(self: ~T) -> ~T\n",
            " |      Move all model parameters and buffers to the CPU.\n",
            " |      \n",
            " |      .. note::\n",
            " |          This method modifies the module in-place.\n",
            " |      \n",
            " |      Returns:\n",
            " |          Module: self\n",
            " |  \n",
            " |  cuda(self: ~T, device: Union[int, torch.device, NoneType] = None) -> ~T\n",
            " |      Move all model parameters and buffers to the GPU.\n",
            " |      \n",
            " |      This also makes associated parameters and buffers different objects. So\n",
            " |      it should be called before constructing the optimizer if the module will\n",
            " |      live on GPU while being optimized.\n",
            " |      \n",
            " |      .. note::\n",
            " |          This method modifies the module in-place.\n",
            " |      \n",
            " |      Args:\n",
            " |          device (int, optional): if specified, all parameters will be\n",
            " |              copied to that device\n",
            " |      \n",
            " |      Returns:\n",
            " |          Module: self\n",
            " |  \n",
            " |  double(self: ~T) -> ~T\n",
            " |      Casts all floating point parameters and buffers to ``double`` datatype.\n",
            " |      \n",
            " |      .. note::\n",
            " |          This method modifies the module in-place.\n",
            " |      \n",
            " |      Returns:\n",
            " |          Module: self\n",
            " |  \n",
            " |  eval(self: ~T) -> ~T\n",
            " |      Set the module in evaluation mode.\n",
            " |      \n",
            " |      This has an effect only on certain modules. See the documentation of\n",
            " |      particular modules for details of their behaviors in training/evaluation\n",
            " |      mode, i.e. whether they are affected, e.g. :class:`Dropout`, :class:`BatchNorm`,\n",
            " |      etc.\n",
            " |      \n",
            " |      This is equivalent with :meth:`self.train(False) <torch.nn.Module.train>`.\n",
            " |      \n",
            " |      See :ref:`locally-disable-grad-doc` for a comparison between\n",
            " |      `.eval()` and several similar mechanisms that may be confused with it.\n",
            " |      \n",
            " |      Returns:\n",
            " |          Module: self\n",
            " |  \n",
            " |  float(self: ~T) -> ~T\n",
            " |      Casts all floating point parameters and buffers to ``float`` datatype.\n",
            " |      \n",
            " |      .. note::\n",
            " |          This method modifies the module in-place.\n",
            " |      \n",
            " |      Returns:\n",
            " |          Module: self\n",
            " |  \n",
            " |  get_buffer(self, target: str) -> 'Tensor'\n",
            " |      Return the buffer given by ``target`` if it exists, otherwise throw an error.\n",
            " |      \n",
            " |      See the docstring for ``get_submodule`` for a more detailed\n",
            " |      explanation of this method's functionality as well as how to\n",
            " |      correctly specify ``target``.\n",
            " |      \n",
            " |      Args:\n",
            " |          target: The fully-qualified string name of the buffer\n",
            " |              to look for. (See ``get_submodule`` for how to specify a\n",
            " |              fully-qualified string.)\n",
            " |      \n",
            " |      Returns:\n",
            " |          torch.Tensor: The buffer referenced by ``target``\n",
            " |      \n",
            " |      Raises:\n",
            " |          AttributeError: If the target string references an invalid\n",
            " |              path or resolves to something that is not a\n",
            " |              buffer\n",
            " |  \n",
            " |  get_extra_state(self) -> Any\n",
            " |      Return any extra state to include in the module's state_dict.\n",
            " |      \n",
            " |      Implement this and a corresponding :func:`set_extra_state` for your module\n",
            " |      if you need to store extra state. This function is called when building the\n",
            " |      module's `state_dict()`.\n",
            " |      \n",
            " |      Note that extra state should be picklable to ensure working serialization\n",
            " |      of the state_dict. We only provide backwards compatibility guarantees\n",
            " |      for serializing Tensors; other objects may break backwards compatibility if\n",
            " |      their serialized pickled form changes.\n",
            " |      \n",
            " |      Returns:\n",
            " |          object: Any extra state to store in the module's state_dict\n",
            " |  \n",
            " |  get_parameter(self, target: str) -> 'Parameter'\n",
            " |      Return the parameter given by ``target`` if it exists, otherwise throw an error.\n",
            " |      \n",
            " |      See the docstring for ``get_submodule`` for a more detailed\n",
            " |      explanation of this method's functionality as well as how to\n",
            " |      correctly specify ``target``.\n",
            " |      \n",
            " |      Args:\n",
            " |          target: The fully-qualified string name of the Parameter\n",
            " |              to look for. (See ``get_submodule`` for how to specify a\n",
            " |              fully-qualified string.)\n",
            " |      \n",
            " |      Returns:\n",
            " |          torch.nn.Parameter: The Parameter referenced by ``target``\n",
            " |      \n",
            " |      Raises:\n",
            " |          AttributeError: If the target string references an invalid\n",
            " |              path or resolves to something that is not an\n",
            " |              ``nn.Parameter``\n",
            " |  \n",
            " |  get_submodule(self, target: str) -> 'Module'\n",
            " |      Return the submodule given by ``target`` if it exists, otherwise throw an error.\n",
            " |      \n",
            " |      For example, let's say you have an ``nn.Module`` ``A`` that\n",
            " |      looks like this:\n",
            " |      \n",
            " |      .. code-block:: text\n",
            " |      \n",
            " |          A(\n",
            " |              (net_b): Module(\n",
            " |                  (net_c): Module(\n",
            " |                      (conv): Conv2d(16, 33, kernel_size=(3, 3), stride=(2, 2))\n",
            " |                  )\n",
            " |                  (linear): Linear(in_features=100, out_features=200, bias=True)\n",
            " |              )\n",
            " |          )\n",
            " |      \n",
            " |      (The diagram shows an ``nn.Module`` ``A``. ``A`` which has a nested\n",
            " |      submodule ``net_b``, which itself has two submodules ``net_c``\n",
            " |      and ``linear``. ``net_c`` then has a submodule ``conv``.)\n",
            " |      \n",
            " |      To check whether or not we have the ``linear`` submodule, we\n",
            " |      would call ``get_submodule(\"net_b.linear\")``. To check whether\n",
            " |      we have the ``conv`` submodule, we would call\n",
            " |      ``get_submodule(\"net_b.net_c.conv\")``.\n",
            " |      \n",
            " |      The runtime of ``get_submodule`` is bounded by the degree\n",
            " |      of module nesting in ``target``. A query against\n",
            " |      ``named_modules`` achieves the same result, but it is O(N) in\n",
            " |      the number of transitive modules. So, for a simple check to see\n",
            " |      if some submodule exists, ``get_submodule`` should always be\n",
            " |      used.\n",
            " |      \n",
            " |      Args:\n",
            " |          target: The fully-qualified string name of the submodule\n",
            " |              to look for. (See above example for how to specify a\n",
            " |              fully-qualified string.)\n",
            " |      \n",
            " |      Returns:\n",
            " |          torch.nn.Module: The submodule referenced by ``target``\n",
            " |      \n",
            " |      Raises:\n",
            " |          AttributeError: If the target string references an invalid\n",
            " |              path or resolves to something that is not an\n",
            " |              ``nn.Module``\n",
            " |  \n",
            " |  half(self: ~T) -> ~T\n",
            " |      Casts all floating point parameters and buffers to ``half`` datatype.\n",
            " |      \n",
            " |      .. note::\n",
            " |          This method modifies the module in-place.\n",
            " |      \n",
            " |      Returns:\n",
            " |          Module: self\n",
            " |  \n",
            " |  ipu(self: ~T, device: Union[int, torch.device, NoneType] = None) -> ~T\n",
            " |      Move all model parameters and buffers to the IPU.\n",
            " |      \n",
            " |      This also makes associated parameters and buffers different objects. So\n",
            " |      it should be called before constructing the optimizer if the module will\n",
            " |      live on IPU while being optimized.\n",
            " |      \n",
            " |      .. note::\n",
            " |          This method modifies the module in-place.\n",
            " |      \n",
            " |      Arguments:\n",
            " |          device (int, optional): if specified, all parameters will be\n",
            " |              copied to that device\n",
            " |      \n",
            " |      Returns:\n",
            " |          Module: self\n",
            " |  \n",
            " |  load_state_dict(self, state_dict: Mapping[str, Any], strict: bool = True, assign: bool = False)\n",
            " |      Copy parameters and buffers from :attr:`state_dict` into this module and its descendants.\n",
            " |      \n",
            " |      If :attr:`strict` is ``True``, then\n",
            " |      the keys of :attr:`state_dict` must exactly match the keys returned\n",
            " |      by this module's :meth:`~torch.nn.Module.state_dict` function.\n",
            " |      \n",
            " |      .. warning::\n",
            " |          If :attr:`assign` is ``True`` the optimizer must be created after\n",
            " |          the call to :attr:`load_state_dict` unless\n",
            " |          :func:`~torch.__future__.get_swap_module_params_on_conversion` is ``True``.\n",
            " |      \n",
            " |      Args:\n",
            " |          state_dict (dict): a dict containing parameters and\n",
            " |              persistent buffers.\n",
            " |          strict (bool, optional): whether to strictly enforce that the keys\n",
            " |              in :attr:`state_dict` match the keys returned by this module's\n",
            " |              :meth:`~torch.nn.Module.state_dict` function. Default: ``True``\n",
            " |          assign (bool, optional): When set to ``False``, the properties of the tensors\n",
            " |              in the current module are preserved whereas setting it to ``True`` preserves\n",
            " |              properties of the Tensors in the state dict. The only\n",
            " |              exception is the ``requires_grad`` field of :class:`~torch.nn.Parameter`s\n",
            " |              for which the value from the module is preserved.\n",
            " |              Default: ``False``\n",
            " |      \n",
            " |      Returns:\n",
            " |          ``NamedTuple`` with ``missing_keys`` and ``unexpected_keys`` fields:\n",
            " |              * **missing_keys** is a list of str containing any keys that are expected\n",
            " |                  by this module but missing from the provided ``state_dict``.\n",
            " |              * **unexpected_keys** is a list of str containing the keys that are not\n",
            " |                  expected by this module but present in the provided ``state_dict``.\n",
            " |      \n",
            " |      Note:\n",
            " |          If a parameter or buffer is registered as ``None`` and its corresponding key\n",
            " |          exists in :attr:`state_dict`, :meth:`load_state_dict` will raise a\n",
            " |          ``RuntimeError``.\n",
            " |  \n",
            " |  modules(self) -> Iterator[ForwardRef('Module')]\n",
            " |      Return an iterator over all modules in the network.\n",
            " |      \n",
            " |      Yields:\n",
            " |          Module: a module in the network\n",
            " |      \n",
            " |      Note:\n",
            " |          Duplicate modules are returned only once. In the following\n",
            " |          example, ``l`` will be returned only once.\n",
            " |      \n",
            " |      Example::\n",
            " |      \n",
            " |          >>> l = nn.Linear(2, 2)\n",
            " |          >>> net = nn.Sequential(l, l)\n",
            " |          >>> for idx, m in enumerate(net.modules()):\n",
            " |          ...     print(idx, '->', m)\n",
            " |      \n",
            " |          0 -> Sequential(\n",
            " |            (0): Linear(in_features=2, out_features=2, bias=True)\n",
            " |            (1): Linear(in_features=2, out_features=2, bias=True)\n",
            " |          )\n",
            " |          1 -> Linear(in_features=2, out_features=2, bias=True)\n",
            " |  \n",
            " |  mtia(self: ~T, device: Union[int, torch.device, NoneType] = None) -> ~T\n",
            " |      Move all model parameters and buffers to the MTIA.\n",
            " |      \n",
            " |      This also makes associated parameters and buffers different objects. So\n",
            " |      it should be called before constructing the optimizer if the module will\n",
            " |      live on MTIA while being optimized.\n",
            " |      \n",
            " |      .. note::\n",
            " |          This method modifies the module in-place.\n",
            " |      \n",
            " |      Arguments:\n",
            " |          device (int, optional): if specified, all parameters will be\n",
            " |              copied to that device\n",
            " |      \n",
            " |      Returns:\n",
            " |          Module: self\n",
            " |  \n",
            " |  named_buffers(self, prefix: str = '', recurse: bool = True, remove_duplicate: bool = True) -> Iterator[Tuple[str, torch.Tensor]]\n",
            " |      Return an iterator over module buffers, yielding both the name of the buffer as well as the buffer itself.\n",
            " |      \n",
            " |      Args:\n",
            " |          prefix (str): prefix to prepend to all buffer names.\n",
            " |          recurse (bool, optional): if True, then yields buffers of this module\n",
            " |              and all submodules. Otherwise, yields only buffers that\n",
            " |              are direct members of this module. Defaults to True.\n",
            " |          remove_duplicate (bool, optional): whether to remove the duplicated buffers in the result. Defaults to True.\n",
            " |      \n",
            " |      Yields:\n",
            " |          (str, torch.Tensor): Tuple containing the name and buffer\n",
            " |      \n",
            " |      Example::\n",
            " |      \n",
            " |          >>> # xdoctest: +SKIP(\"undefined vars\")\n",
            " |          >>> for name, buf in self.named_buffers():\n",
            " |          >>>     if name in ['running_var']:\n",
            " |          >>>         print(buf.size())\n",
            " |  \n",
            " |  named_children(self) -> Iterator[Tuple[str, ForwardRef('Module')]]\n",
            " |      Return an iterator over immediate children modules, yielding both the name of the module as well as the module itself.\n",
            " |      \n",
            " |      Yields:\n",
            " |          (str, Module): Tuple containing a name and child module\n",
            " |      \n",
            " |      Example::\n",
            " |      \n",
            " |          >>> # xdoctest: +SKIP(\"undefined vars\")\n",
            " |          >>> for name, module in model.named_children():\n",
            " |          >>>     if name in ['conv4', 'conv5']:\n",
            " |          >>>         print(module)\n",
            " |  \n",
            " |  named_modules(self, memo: Optional[Set[ForwardRef('Module')]] = None, prefix: str = '', remove_duplicate: bool = True)\n",
            " |      Return an iterator over all modules in the network, yielding both the name of the module as well as the module itself.\n",
            " |      \n",
            " |      Args:\n",
            " |          memo: a memo to store the set of modules already added to the result\n",
            " |          prefix: a prefix that will be added to the name of the module\n",
            " |          remove_duplicate: whether to remove the duplicated module instances in the result\n",
            " |              or not\n",
            " |      \n",
            " |      Yields:\n",
            " |          (str, Module): Tuple of name and module\n",
            " |      \n",
            " |      Note:\n",
            " |          Duplicate modules are returned only once. In the following\n",
            " |          example, ``l`` will be returned only once.\n",
            " |      \n",
            " |      Example::\n",
            " |      \n",
            " |          >>> l = nn.Linear(2, 2)\n",
            " |          >>> net = nn.Sequential(l, l)\n",
            " |          >>> for idx, m in enumerate(net.named_modules()):\n",
            " |          ...     print(idx, '->', m)\n",
            " |      \n",
            " |          0 -> ('', Sequential(\n",
            " |            (0): Linear(in_features=2, out_features=2, bias=True)\n",
            " |            (1): Linear(in_features=2, out_features=2, bias=True)\n",
            " |          ))\n",
            " |          1 -> ('0', Linear(in_features=2, out_features=2, bias=True))\n",
            " |  \n",
            " |  named_parameters(self, prefix: str = '', recurse: bool = True, remove_duplicate: bool = True) -> Iterator[Tuple[str, torch.nn.parameter.Parameter]]\n",
            " |      Return an iterator over module parameters, yielding both the name of the parameter as well as the parameter itself.\n",
            " |      \n",
            " |      Args:\n",
            " |          prefix (str): prefix to prepend to all parameter names.\n",
            " |          recurse (bool): if True, then yields parameters of this module\n",
            " |              and all submodules. Otherwise, yields only parameters that\n",
            " |              are direct members of this module.\n",
            " |          remove_duplicate (bool, optional): whether to remove the duplicated\n",
            " |              parameters in the result. Defaults to True.\n",
            " |      \n",
            " |      Yields:\n",
            " |          (str, Parameter): Tuple containing the name and parameter\n",
            " |      \n",
            " |      Example::\n",
            " |      \n",
            " |          >>> # xdoctest: +SKIP(\"undefined vars\")\n",
            " |          >>> for name, param in self.named_parameters():\n",
            " |          >>>     if name in ['bias']:\n",
            " |          >>>         print(param.size())\n",
            " |  \n",
            " |  parameters(self, recurse: bool = True) -> Iterator[torch.nn.parameter.Parameter]\n",
            " |      Return an iterator over module parameters.\n",
            " |      \n",
            " |      This is typically passed to an optimizer.\n",
            " |      \n",
            " |      Args:\n",
            " |          recurse (bool): if True, then yields parameters of this module\n",
            " |              and all submodules. Otherwise, yields only parameters that\n",
            " |              are direct members of this module.\n",
            " |      \n",
            " |      Yields:\n",
            " |          Parameter: module parameter\n",
            " |      \n",
            " |      Example::\n",
            " |      \n",
            " |          >>> # xdoctest: +SKIP(\"undefined vars\")\n",
            " |          >>> for param in model.parameters():\n",
            " |          >>>     print(type(param), param.size())\n",
            " |          <class 'torch.Tensor'> (20L,)\n",
            " |          <class 'torch.Tensor'> (20L, 1L, 5L, 5L)\n",
            " |  \n",
            " |  register_backward_hook(self, hook: Callable[[ForwardRef('Module'), Union[Tuple[torch.Tensor, ...], torch.Tensor], Union[Tuple[torch.Tensor, ...], torch.Tensor]], Union[NoneType, Tuple[torch.Tensor, ...], torch.Tensor]]) -> torch.utils.hooks.RemovableHandle\n",
            " |      Register a backward hook on the module.\n",
            " |      \n",
            " |      This function is deprecated in favor of :meth:`~torch.nn.Module.register_full_backward_hook` and\n",
            " |      the behavior of this function will change in future versions.\n",
            " |      \n",
            " |      Returns:\n",
            " |          :class:`torch.utils.hooks.RemovableHandle`:\n",
            " |              a handle that can be used to remove the added hook by calling\n",
            " |              ``handle.remove()``\n",
            " |  \n",
            " |  register_buffer(self, name: str, tensor: Optional[torch.Tensor], persistent: bool = True) -> None\n",
            " |      Add a buffer to the module.\n",
            " |      \n",
            " |      This is typically used to register a buffer that should not to be\n",
            " |      considered a model parameter. For example, BatchNorm's ``running_mean``\n",
            " |      is not a parameter, but is part of the module's state. Buffers, by\n",
            " |      default, are persistent and will be saved alongside parameters. This\n",
            " |      behavior can be changed by setting :attr:`persistent` to ``False``. The\n",
            " |      only difference between a persistent buffer and a non-persistent buffer\n",
            " |      is that the latter will not be a part of this module's\n",
            " |      :attr:`state_dict`.\n",
            " |      \n",
            " |      Buffers can be accessed as attributes using given names.\n",
            " |      \n",
            " |      Args:\n",
            " |          name (str): name of the buffer. The buffer can be accessed\n",
            " |              from this module using the given name\n",
            " |          tensor (Tensor or None): buffer to be registered. If ``None``, then operations\n",
            " |              that run on buffers, such as :attr:`cuda`, are ignored. If ``None``,\n",
            " |              the buffer is **not** included in the module's :attr:`state_dict`.\n",
            " |          persistent (bool): whether the buffer is part of this module's\n",
            " |              :attr:`state_dict`.\n",
            " |      \n",
            " |      Example::\n",
            " |      \n",
            " |          >>> # xdoctest: +SKIP(\"undefined vars\")\n",
            " |          >>> self.register_buffer('running_mean', torch.zeros(num_features))\n",
            " |  \n",
            " |  register_forward_hook(self, hook: Union[Callable[[~T, Tuple[Any, ...], Any], Optional[Any]], Callable[[~T, Tuple[Any, ...], Dict[str, Any], Any], Optional[Any]]], *, prepend: bool = False, with_kwargs: bool = False, always_call: bool = False) -> torch.utils.hooks.RemovableHandle\n",
            " |      Register a forward hook on the module.\n",
            " |      \n",
            " |      The hook will be called every time after :func:`forward` has computed an output.\n",
            " |      \n",
            " |      If ``with_kwargs`` is ``False`` or not specified, the input contains only\n",
            " |      the positional arguments given to the module. Keyword arguments won't be\n",
            " |      passed to the hooks and only to the ``forward``. The hook can modify the\n",
            " |      output. It can modify the input inplace but it will not have effect on\n",
            " |      forward since this is called after :func:`forward` is called. The hook\n",
            " |      should have the following signature::\n",
            " |      \n",
            " |          hook(module, args, output) -> None or modified output\n",
            " |      \n",
            " |      If ``with_kwargs`` is ``True``, the forward hook will be passed the\n",
            " |      ``kwargs`` given to the forward function and be expected to return the\n",
            " |      output possibly modified. The hook should have the following signature::\n",
            " |      \n",
            " |          hook(module, args, kwargs, output) -> None or modified output\n",
            " |      \n",
            " |      Args:\n",
            " |          hook (Callable): The user defined hook to be registered.\n",
            " |          prepend (bool): If ``True``, the provided ``hook`` will be fired\n",
            " |              before all existing ``forward`` hooks on this\n",
            " |              :class:`torch.nn.modules.Module`. Otherwise, the provided\n",
            " |              ``hook`` will be fired after all existing ``forward`` hooks on\n",
            " |              this :class:`torch.nn.modules.Module`. Note that global\n",
            " |              ``forward`` hooks registered with\n",
            " |              :func:`register_module_forward_hook` will fire before all hooks\n",
            " |              registered by this method.\n",
            " |              Default: ``False``\n",
            " |          with_kwargs (bool): If ``True``, the ``hook`` will be passed the\n",
            " |              kwargs given to the forward function.\n",
            " |              Default: ``False``\n",
            " |          always_call (bool): If ``True`` the ``hook`` will be run regardless of\n",
            " |              whether an exception is raised while calling the Module.\n",
            " |              Default: ``False``\n",
            " |      \n",
            " |      Returns:\n",
            " |          :class:`torch.utils.hooks.RemovableHandle`:\n",
            " |              a handle that can be used to remove the added hook by calling\n",
            " |              ``handle.remove()``\n",
            " |  \n",
            " |  register_forward_pre_hook(self, hook: Union[Callable[[~T, Tuple[Any, ...]], Optional[Any]], Callable[[~T, Tuple[Any, ...], Dict[str, Any]], Optional[Tuple[Any, Dict[str, Any]]]]], *, prepend: bool = False, with_kwargs: bool = False) -> torch.utils.hooks.RemovableHandle\n",
            " |      Register a forward pre-hook on the module.\n",
            " |      \n",
            " |      The hook will be called every time before :func:`forward` is invoked.\n",
            " |      \n",
            " |      \n",
            " |      If ``with_kwargs`` is false or not specified, the input contains only\n",
            " |      the positional arguments given to the module. Keyword arguments won't be\n",
            " |      passed to the hooks and only to the ``forward``. The hook can modify the\n",
            " |      input. User can either return a tuple or a single modified value in the\n",
            " |      hook. We will wrap the value into a tuple if a single value is returned\n",
            " |      (unless that value is already a tuple). The hook should have the\n",
            " |      following signature::\n",
            " |      \n",
            " |          hook(module, args) -> None or modified input\n",
            " |      \n",
            " |      If ``with_kwargs`` is true, the forward pre-hook will be passed the\n",
            " |      kwargs given to the forward function. And if the hook modifies the\n",
            " |      input, both the args and kwargs should be returned. The hook should have\n",
            " |      the following signature::\n",
            " |      \n",
            " |          hook(module, args, kwargs) -> None or a tuple of modified input and kwargs\n",
            " |      \n",
            " |      Args:\n",
            " |          hook (Callable): The user defined hook to be registered.\n",
            " |          prepend (bool): If true, the provided ``hook`` will be fired before\n",
            " |              all existing ``forward_pre`` hooks on this\n",
            " |              :class:`torch.nn.modules.Module`. Otherwise, the provided\n",
            " |              ``hook`` will be fired after all existing ``forward_pre`` hooks\n",
            " |              on this :class:`torch.nn.modules.Module`. Note that global\n",
            " |              ``forward_pre`` hooks registered with\n",
            " |              :func:`register_module_forward_pre_hook` will fire before all\n",
            " |              hooks registered by this method.\n",
            " |              Default: ``False``\n",
            " |          with_kwargs (bool): If true, the ``hook`` will be passed the kwargs\n",
            " |              given to the forward function.\n",
            " |              Default: ``False``\n",
            " |      \n",
            " |      Returns:\n",
            " |          :class:`torch.utils.hooks.RemovableHandle`:\n",
            " |              a handle that can be used to remove the added hook by calling\n",
            " |              ``handle.remove()``\n",
            " |  \n",
            " |  register_full_backward_hook(self, hook: Callable[[ForwardRef('Module'), Union[Tuple[torch.Tensor, ...], torch.Tensor], Union[Tuple[torch.Tensor, ...], torch.Tensor]], Union[NoneType, Tuple[torch.Tensor, ...], torch.Tensor]], prepend: bool = False) -> torch.utils.hooks.RemovableHandle\n",
            " |      Register a backward hook on the module.\n",
            " |      \n",
            " |      The hook will be called every time the gradients with respect to a module\n",
            " |      are computed, i.e. the hook will execute if and only if the gradients with\n",
            " |      respect to module outputs are computed. The hook should have the following\n",
            " |      signature::\n",
            " |      \n",
            " |          hook(module, grad_input, grad_output) -> tuple(Tensor) or None\n",
            " |      \n",
            " |      The :attr:`grad_input` and :attr:`grad_output` are tuples that contain the gradients\n",
            " |      with respect to the inputs and outputs respectively. The hook should\n",
            " |      not modify its arguments, but it can optionally return a new gradient with\n",
            " |      respect to the input that will be used in place of :attr:`grad_input` in\n",
            " |      subsequent computations. :attr:`grad_input` will only correspond to the inputs given\n",
            " |      as positional arguments and all kwarg arguments are ignored. Entries\n",
            " |      in :attr:`grad_input` and :attr:`grad_output` will be ``None`` for all non-Tensor\n",
            " |      arguments.\n",
            " |      \n",
            " |      For technical reasons, when this hook is applied to a Module, its forward function will\n",
            " |      receive a view of each Tensor passed to the Module. Similarly the caller will receive a view\n",
            " |      of each Tensor returned by the Module's forward function.\n",
            " |      \n",
            " |      .. warning ::\n",
            " |          Modifying inputs or outputs inplace is not allowed when using backward hooks and\n",
            " |          will raise an error.\n",
            " |      \n",
            " |      Args:\n",
            " |          hook (Callable): The user-defined hook to be registered.\n",
            " |          prepend (bool): If true, the provided ``hook`` will be fired before\n",
            " |              all existing ``backward`` hooks on this\n",
            " |              :class:`torch.nn.modules.Module`. Otherwise, the provided\n",
            " |              ``hook`` will be fired after all existing ``backward`` hooks on\n",
            " |              this :class:`torch.nn.modules.Module`. Note that global\n",
            " |              ``backward`` hooks registered with\n",
            " |              :func:`register_module_full_backward_hook` will fire before\n",
            " |              all hooks registered by this method.\n",
            " |      \n",
            " |      Returns:\n",
            " |          :class:`torch.utils.hooks.RemovableHandle`:\n",
            " |              a handle that can be used to remove the added hook by calling\n",
            " |              ``handle.remove()``\n",
            " |  \n",
            " |  register_full_backward_pre_hook(self, hook: Callable[[ForwardRef('Module'), Union[Tuple[torch.Tensor, ...], torch.Tensor]], Union[NoneType, Tuple[torch.Tensor, ...], torch.Tensor]], prepend: bool = False) -> torch.utils.hooks.RemovableHandle\n",
            " |      Register a backward pre-hook on the module.\n",
            " |      \n",
            " |      The hook will be called every time the gradients for the module are computed.\n",
            " |      The hook should have the following signature::\n",
            " |      \n",
            " |          hook(module, grad_output) -> tuple[Tensor] or None\n",
            " |      \n",
            " |      The :attr:`grad_output` is a tuple. The hook should\n",
            " |      not modify its arguments, but it can optionally return a new gradient with\n",
            " |      respect to the output that will be used in place of :attr:`grad_output` in\n",
            " |      subsequent computations. Entries in :attr:`grad_output` will be ``None`` for\n",
            " |      all non-Tensor arguments.\n",
            " |      \n",
            " |      For technical reasons, when this hook is applied to a Module, its forward function will\n",
            " |      receive a view of each Tensor passed to the Module. Similarly the caller will receive a view\n",
            " |      of each Tensor returned by the Module's forward function.\n",
            " |      \n",
            " |      .. warning ::\n",
            " |          Modifying inputs inplace is not allowed when using backward hooks and\n",
            " |          will raise an error.\n",
            " |      \n",
            " |      Args:\n",
            " |          hook (Callable): The user-defined hook to be registered.\n",
            " |          prepend (bool): If true, the provided ``hook`` will be fired before\n",
            " |              all existing ``backward_pre`` hooks on this\n",
            " |              :class:`torch.nn.modules.Module`. Otherwise, the provided\n",
            " |              ``hook`` will be fired after all existing ``backward_pre`` hooks\n",
            " |              on this :class:`torch.nn.modules.Module`. Note that global\n",
            " |              ``backward_pre`` hooks registered with\n",
            " |              :func:`register_module_full_backward_pre_hook` will fire before\n",
            " |              all hooks registered by this method.\n",
            " |      \n",
            " |      Returns:\n",
            " |          :class:`torch.utils.hooks.RemovableHandle`:\n",
            " |              a handle that can be used to remove the added hook by calling\n",
            " |              ``handle.remove()``\n",
            " |  \n",
            " |  register_load_state_dict_post_hook(self, hook)\n",
            " |      Register a post-hook to be run after module's :meth:`~nn.Module.load_state_dict` is called.\n",
            " |      \n",
            " |      It should have the following signature::\n",
            " |          hook(module, incompatible_keys) -> None\n",
            " |      \n",
            " |      The ``module`` argument is the current module that this hook is registered\n",
            " |      on, and the ``incompatible_keys`` argument is a ``NamedTuple`` consisting\n",
            " |      of attributes ``missing_keys`` and ``unexpected_keys``. ``missing_keys``\n",
            " |      is a ``list`` of ``str`` containing the missing keys and\n",
            " |      ``unexpected_keys`` is a ``list`` of ``str`` containing the unexpected keys.\n",
            " |      \n",
            " |      The given incompatible_keys can be modified inplace if needed.\n",
            " |      \n",
            " |      Note that the checks performed when calling :func:`load_state_dict` with\n",
            " |      ``strict=True`` are affected by modifications the hook makes to\n",
            " |      ``missing_keys`` or ``unexpected_keys``, as expected. Additions to either\n",
            " |      set of keys will result in an error being thrown when ``strict=True``, and\n",
            " |      clearing out both missing and unexpected keys will avoid an error.\n",
            " |      \n",
            " |      Returns:\n",
            " |          :class:`torch.utils.hooks.RemovableHandle`:\n",
            " |              a handle that can be used to remove the added hook by calling\n",
            " |              ``handle.remove()``\n",
            " |  \n",
            " |  register_load_state_dict_pre_hook(self, hook)\n",
            " |      Register a pre-hook to be run before module's :meth:`~nn.Module.load_state_dict` is called.\n",
            " |      \n",
            " |      It should have the following signature::\n",
            " |          hook(module, state_dict, prefix, local_metadata, strict, missing_keys, unexpected_keys, error_msgs) -> None  # noqa: B950\n",
            " |      \n",
            " |      Arguments:\n",
            " |          hook (Callable): Callable hook that will be invoked before\n",
            " |              loading the state dict.\n",
            " |  \n",
            " |  register_module(self, name: str, module: Optional[ForwardRef('Module')]) -> None\n",
            " |      Alias for :func:`add_module`.\n",
            " |  \n",
            " |  register_parameter(self, name: str, param: Optional[torch.nn.parameter.Parameter]) -> None\n",
            " |      Add a parameter to the module.\n",
            " |      \n",
            " |      The parameter can be accessed as an attribute using given name.\n",
            " |      \n",
            " |      Args:\n",
            " |          name (str): name of the parameter. The parameter can be accessed\n",
            " |              from this module using the given name\n",
            " |          param (Parameter or None): parameter to be added to the module. If\n",
            " |              ``None``, then operations that run on parameters, such as :attr:`cuda`,\n",
            " |              are ignored. If ``None``, the parameter is **not** included in the\n",
            " |              module's :attr:`state_dict`.\n",
            " |  \n",
            " |  register_state_dict_post_hook(self, hook)\n",
            " |      Register a post-hook for the :meth:`~torch.nn.Module.state_dict` method.\n",
            " |      \n",
            " |      It should have the following signature::\n",
            " |          hook(module, state_dict, prefix, local_metadata) -> None\n",
            " |      \n",
            " |      The registered hooks can modify the ``state_dict`` inplace.\n",
            " |  \n",
            " |  register_state_dict_pre_hook(self, hook)\n",
            " |      Register a pre-hook for the :meth:`~torch.nn.Module.state_dict` method.\n",
            " |      \n",
            " |      It should have the following signature::\n",
            " |          hook(module, prefix, keep_vars) -> None\n",
            " |      \n",
            " |      The registered hooks can be used to perform pre-processing before the ``state_dict``\n",
            " |      call is made.\n",
            " |  \n",
            " |  requires_grad_(self: ~T, requires_grad: bool = True) -> ~T\n",
            " |      Change if autograd should record operations on parameters in this module.\n",
            " |      \n",
            " |      This method sets the parameters' :attr:`requires_grad` attributes\n",
            " |      in-place.\n",
            " |      \n",
            " |      This method is helpful for freezing part of the module for finetuning\n",
            " |      or training parts of a model individually (e.g., GAN training).\n",
            " |      \n",
            " |      See :ref:`locally-disable-grad-doc` for a comparison between\n",
            " |      `.requires_grad_()` and several similar mechanisms that may be confused with it.\n",
            " |      \n",
            " |      Args:\n",
            " |          requires_grad (bool): whether autograd should record operations on\n",
            " |                                parameters in this module. Default: ``True``.\n",
            " |      \n",
            " |      Returns:\n",
            " |          Module: self\n",
            " |  \n",
            " |  set_extra_state(self, state: Any) -> None\n",
            " |      Set extra state contained in the loaded `state_dict`.\n",
            " |      \n",
            " |      This function is called from :func:`load_state_dict` to handle any extra state\n",
            " |      found within the `state_dict`. Implement this function and a corresponding\n",
            " |      :func:`get_extra_state` for your module if you need to store extra state within its\n",
            " |      `state_dict`.\n",
            " |      \n",
            " |      Args:\n",
            " |          state (dict): Extra state from the `state_dict`\n",
            " |  \n",
            " |  set_submodule(self, target: str, module: 'Module') -> None\n",
            " |      Set the submodule given by ``target`` if it exists, otherwise throw an error.\n",
            " |      \n",
            " |      For example, let's say you have an ``nn.Module`` ``A`` that\n",
            " |      looks like this:\n",
            " |      \n",
            " |      .. code-block:: text\n",
            " |      \n",
            " |          A(\n",
            " |              (net_b): Module(\n",
            " |                  (net_c): Module(\n",
            " |                      (conv): Conv2d(16, 33, kernel_size=(3, 3), stride=(2, 2))\n",
            " |                  )\n",
            " |                  (linear): Linear(in_features=100, out_features=200, bias=True)\n",
            " |              )\n",
            " |          )\n",
            " |      \n",
            " |      (The diagram shows an ``nn.Module`` ``A``. ``A`` has a nested\n",
            " |      submodule ``net_b``, which itself has two submodules ``net_c``\n",
            " |      and ``linear``. ``net_c`` then has a submodule ``conv``.)\n",
            " |      \n",
            " |      To overide the ``Conv2d`` with a new submodule ``Linear``, you\n",
            " |      would call\n",
            " |      ``set_submodule(\"net_b.net_c.conv\", nn.Linear(33, 16))``.\n",
            " |      \n",
            " |      Args:\n",
            " |          target: The fully-qualified string name of the submodule\n",
            " |              to look for. (See above example for how to specify a\n",
            " |              fully-qualified string.)\n",
            " |          module: The module to set the submodule to.\n",
            " |      \n",
            " |      Raises:\n",
            " |          ValueError: If the target string is empty\n",
            " |          AttributeError: If the target string references an invalid\n",
            " |              path or resolves to something that is not an\n",
            " |              ``nn.Module``\n",
            " |  \n",
            " |  share_memory(self: ~T) -> ~T\n",
            " |      See :meth:`torch.Tensor.share_memory_`.\n",
            " |  \n",
            " |  state_dict(self, *args, destination=None, prefix='', keep_vars=False)\n",
            " |      Return a dictionary containing references to the whole state of the module.\n",
            " |      \n",
            " |      Both parameters and persistent buffers (e.g. running averages) are\n",
            " |      included. Keys are corresponding parameter and buffer names.\n",
            " |      Parameters and buffers set to ``None`` are not included.\n",
            " |      \n",
            " |      .. note::\n",
            " |          The returned object is a shallow copy. It contains references\n",
            " |          to the module's parameters and buffers.\n",
            " |      \n",
            " |      .. warning::\n",
            " |          Currently ``state_dict()`` also accepts positional arguments for\n",
            " |          ``destination``, ``prefix`` and ``keep_vars`` in order. However,\n",
            " |          this is being deprecated and keyword arguments will be enforced in\n",
            " |          future releases.\n",
            " |      \n",
            " |      .. warning::\n",
            " |          Please avoid the use of argument ``destination`` as it is not\n",
            " |          designed for end-users.\n",
            " |      \n",
            " |      Args:\n",
            " |          destination (dict, optional): If provided, the state of module will\n",
            " |              be updated into the dict and the same object is returned.\n",
            " |              Otherwise, an ``OrderedDict`` will be created and returned.\n",
            " |              Default: ``None``.\n",
            " |          prefix (str, optional): a prefix added to parameter and buffer\n",
            " |              names to compose the keys in state_dict. Default: ``''``.\n",
            " |          keep_vars (bool, optional): by default the :class:`~torch.Tensor` s\n",
            " |              returned in the state dict are detached from autograd. If it's\n",
            " |              set to ``True``, detaching will not be performed.\n",
            " |              Default: ``False``.\n",
            " |      \n",
            " |      Returns:\n",
            " |          dict:\n",
            " |              a dictionary containing a whole state of the module\n",
            " |      \n",
            " |      Example::\n",
            " |      \n",
            " |          >>> # xdoctest: +SKIP(\"undefined vars\")\n",
            " |          >>> module.state_dict().keys()\n",
            " |          ['bias', 'weight']\n",
            " |  \n",
            " |  to(self, *args, **kwargs)\n",
            " |      Move and/or cast the parameters and buffers.\n",
            " |      \n",
            " |      This can be called as\n",
            " |      \n",
            " |      .. function:: to(device=None, dtype=None, non_blocking=False)\n",
            " |         :noindex:\n",
            " |      \n",
            " |      .. function:: to(dtype, non_blocking=False)\n",
            " |         :noindex:\n",
            " |      \n",
            " |      .. function:: to(tensor, non_blocking=False)\n",
            " |         :noindex:\n",
            " |      \n",
            " |      .. function:: to(memory_format=torch.channels_last)\n",
            " |         :noindex:\n",
            " |      \n",
            " |      Its signature is similar to :meth:`torch.Tensor.to`, but only accepts\n",
            " |      floating point or complex :attr:`dtype`\\ s. In addition, this method will\n",
            " |      only cast the floating point or complex parameters and buffers to :attr:`dtype`\n",
            " |      (if given). The integral parameters and buffers will be moved\n",
            " |      :attr:`device`, if that is given, but with dtypes unchanged. When\n",
            " |      :attr:`non_blocking` is set, it tries to convert/move asynchronously\n",
            " |      with respect to the host if possible, e.g., moving CPU Tensors with\n",
            " |      pinned memory to CUDA devices.\n",
            " |      \n",
            " |      See below for examples.\n",
            " |      \n",
            " |      .. note::\n",
            " |          This method modifies the module in-place.\n",
            " |      \n",
            " |      Args:\n",
            " |          device (:class:`torch.device`): the desired device of the parameters\n",
            " |              and buffers in this module\n",
            " |          dtype (:class:`torch.dtype`): the desired floating point or complex dtype of\n",
            " |              the parameters and buffers in this module\n",
            " |          tensor (torch.Tensor): Tensor whose dtype and device are the desired\n",
            " |              dtype and device for all parameters and buffers in this module\n",
            " |          memory_format (:class:`torch.memory_format`): the desired memory\n",
            " |              format for 4D parameters and buffers in this module (keyword\n",
            " |              only argument)\n",
            " |      \n",
            " |      Returns:\n",
            " |          Module: self\n",
            " |      \n",
            " |      Examples::\n",
            " |      \n",
            " |          >>> # xdoctest: +IGNORE_WANT(\"non-deterministic\")\n",
            " |          >>> linear = nn.Linear(2, 2)\n",
            " |          >>> linear.weight\n",
            " |          Parameter containing:\n",
            " |          tensor([[ 0.1913, -0.3420],\n",
            " |                  [-0.5113, -0.2325]])\n",
            " |          >>> linear.to(torch.double)\n",
            " |          Linear(in_features=2, out_features=2, bias=True)\n",
            " |          >>> linear.weight\n",
            " |          Parameter containing:\n",
            " |          tensor([[ 0.1913, -0.3420],\n",
            " |                  [-0.5113, -0.2325]], dtype=torch.float64)\n",
            " |          >>> # xdoctest: +REQUIRES(env:TORCH_DOCTEST_CUDA1)\n",
            " |          >>> gpu1 = torch.device(\"cuda:1\")\n",
            " |          >>> linear.to(gpu1, dtype=torch.half, non_blocking=True)\n",
            " |          Linear(in_features=2, out_features=2, bias=True)\n",
            " |          >>> linear.weight\n",
            " |          Parameter containing:\n",
            " |          tensor([[ 0.1914, -0.3420],\n",
            " |                  [-0.5112, -0.2324]], dtype=torch.float16, device='cuda:1')\n",
            " |          >>> cpu = torch.device(\"cpu\")\n",
            " |          >>> linear.to(cpu)\n",
            " |          Linear(in_features=2, out_features=2, bias=True)\n",
            " |          >>> linear.weight\n",
            " |          Parameter containing:\n",
            " |          tensor([[ 0.1914, -0.3420],\n",
            " |                  [-0.5112, -0.2324]], dtype=torch.float16)\n",
            " |      \n",
            " |          >>> linear = nn.Linear(2, 2, bias=None).to(torch.cdouble)\n",
            " |          >>> linear.weight\n",
            " |          Parameter containing:\n",
            " |          tensor([[ 0.3741+0.j,  0.2382+0.j],\n",
            " |                  [ 0.5593+0.j, -0.4443+0.j]], dtype=torch.complex128)\n",
            " |          >>> linear(torch.ones(3, 2, dtype=torch.cdouble))\n",
            " |          tensor([[0.6122+0.j, 0.1150+0.j],\n",
            " |                  [0.6122+0.j, 0.1150+0.j],\n",
            " |                  [0.6122+0.j, 0.1150+0.j]], dtype=torch.complex128)\n",
            " |  \n",
            " |  to_empty(self: ~T, *, device: Union[int, str, torch.device, NoneType], recurse: bool = True) -> ~T\n",
            " |      Move the parameters and buffers to the specified device without copying storage.\n",
            " |      \n",
            " |      Args:\n",
            " |          device (:class:`torch.device`): The desired device of the parameters\n",
            " |              and buffers in this module.\n",
            " |          recurse (bool): Whether parameters and buffers of submodules should\n",
            " |              be recursively moved to the specified device.\n",
            " |      \n",
            " |      Returns:\n",
            " |          Module: self\n",
            " |  \n",
            " |  train(self: ~T, mode: bool = True) -> ~T\n",
            " |      Set the module in training mode.\n",
            " |      \n",
            " |      This has an effect only on certain modules. See the documentation of\n",
            " |      particular modules for details of their behaviors in training/evaluation\n",
            " |      mode, i.e., whether they are affected, e.g. :class:`Dropout`, :class:`BatchNorm`,\n",
            " |      etc.\n",
            " |      \n",
            " |      Args:\n",
            " |          mode (bool): whether to set training mode (``True``) or evaluation\n",
            " |                       mode (``False``). Default: ``True``.\n",
            " |      \n",
            " |      Returns:\n",
            " |          Module: self\n",
            " |  \n",
            " |  type(self: ~T, dst_type: Union[torch.dtype, str]) -> ~T\n",
            " |      Casts all parameters and buffers to :attr:`dst_type`.\n",
            " |      \n",
            " |      .. note::\n",
            " |          This method modifies the module in-place.\n",
            " |      \n",
            " |      Args:\n",
            " |          dst_type (type or string): the desired type\n",
            " |      \n",
            " |      Returns:\n",
            " |          Module: self\n",
            " |  \n",
            " |  xpu(self: ~T, device: Union[int, torch.device, NoneType] = None) -> ~T\n",
            " |      Move all model parameters and buffers to the XPU.\n",
            " |      \n",
            " |      This also makes associated parameters and buffers different objects. So\n",
            " |      it should be called before constructing optimizer if the module will\n",
            " |      live on XPU while being optimized.\n",
            " |      \n",
            " |      .. note::\n",
            " |          This method modifies the module in-place.\n",
            " |      \n",
            " |      Arguments:\n",
            " |          device (int, optional): if specified, all parameters will be\n",
            " |              copied to that device\n",
            " |      \n",
            " |      Returns:\n",
            " |          Module: self\n",
            " |  \n",
            " |  zero_grad(self, set_to_none: bool = True) -> None\n",
            " |      Reset gradients of all model parameters.\n",
            " |      \n",
            " |      See similar function under :class:`torch.optim.Optimizer` for more context.\n",
            " |      \n",
            " |      Args:\n",
            " |          set_to_none (bool): instead of setting to zero, set the grads to None.\n",
            " |              See :meth:`torch.optim.Optimizer.zero_grad` for details.\n",
            " |  \n",
            " |  ----------------------------------------------------------------------\n",
            " |  Data descriptors inherited from torch.nn.modules.module.Module:\n",
            " |  \n",
            " |  __dict__\n",
            " |      dictionary for instance variables\n",
            " |  \n",
            " |  __weakref__\n",
            " |      list of weak references to the object\n",
            " |  \n",
            " |  ----------------------------------------------------------------------\n",
            " |  Data and other attributes inherited from torch.nn.modules.module.Module:\n",
            " |  \n",
            " |  T_destination = ~T_destination\n",
            " |  \n",
            " |  call_super_init = False\n",
            " |  \n",
            " |  dump_patches = False\n",
            "\n"
          ]
        }
      ]
    },
    {
      "cell_type": "code",
      "source": [
        "def func(a, b):\n",
        "\n",
        "  c = torch.add(a, b)\n",
        "  d = torch.subtract(b, 1)\n",
        "\n",
        "  e = torch.multiply(c, d)\n",
        "\n",
        "  return e\n",
        "\n",
        "func(5, 6)"
      ],
      "metadata": {
        "colab": {
          "base_uri": "https://localhost:8080/"
        },
        "id": "SRNWqooJ3slS",
        "outputId": "a1bafe52-18a4-44ac-ff90-875300784647"
      },
      "execution_count": null,
      "outputs": [
        {
          "output_type": "execute_result",
          "data": {
            "text/plain": [
              "tensor(55)"
            ]
          },
          "metadata": {},
          "execution_count": 29
        }
      ]
    },
    {
      "cell_type": "markdown",
      "source": [
        "# NN in PyTorch"
      ],
      "metadata": {
        "id": "NKkl21qq-xyo"
      }
    },
    {
      "cell_type": "code",
      "source": [
        "class OurDenseLayer(torch.nn.Module):\n",
        "    def __init__(self, num_inputs, num_outputs):\n",
        "        super(OurDenseLayer, self).__init__()\n",
        "        # Define and initialize parameters: a weight matrix W and bias b\n",
        "        self.W = torch.nn.Parameter(torch.randn(num_inputs, num_outputs))\n",
        "        self.bias = torch.nn.Parameter(torch.randn(num_outputs))\n",
        "\n",
        "    def forward(self, x):\n",
        "        '''TODO: define the operation for z (hint: use torch.matmul).'''\n",
        "        z = torch.matmul(x, self.W) + self.bias\n",
        "\n",
        "        '''TODO: define the operation for out (hint: use torch.sigmoid).'''\n",
        "        y = torch.sigmoid(z)\n",
        "        return y"
      ],
      "metadata": {
        "id": "exFjsV87-tfw"
      },
      "execution_count": null,
      "outputs": []
    },
    {
      "cell_type": "code",
      "source": [
        "# Define a layer and test the output!\n",
        "num_inputs = 2\n",
        "num_outputs = 3\n",
        "layer = OurDenseLayer(num_inputs, num_outputs)\n",
        "x_input = torch.tensor([[1, 2.]])\n",
        "y = layer(x_input)\n",
        "\n",
        "print(f\"input shape: {x_input.shape}\")\n",
        "print(f\"output shape: {y.shape}\")\n",
        "print(f\"output result: {y}\")"
      ],
      "metadata": {
        "colab": {
          "base_uri": "https://localhost:8080/"
        },
        "id": "5nUKREm8BcCu",
        "outputId": "07863ad6-f5d8-4524-f38a-483c11da2add"
      },
      "execution_count": null,
      "outputs": [
        {
          "output_type": "stream",
          "name": "stdout",
          "text": [
            "input shape: torch.Size([1, 2])\n",
            "output shape: torch.Size([1, 3])\n",
            "output result: tensor([[0.4358, 0.7388, 0.0222]], grad_fn=<SigmoidBackward0>)\n"
          ]
        }
      ]
    },
    {
      "cell_type": "code",
      "source": [
        "# Define NN with PyTorch Sequential API\n",
        "\n",
        "# n of inputs and outputs\n",
        "n_input_nodes = 2\n",
        "n_output_nodes = 3\n",
        "\n",
        "# Define the model\n",
        "'''TODO: Use the Sequential API to define a neural network with a\n",
        "    single linear (dense!) layer, followed by non-linearity to compute z'''\n",
        "model = nn.Sequential(\n",
        "    nn.Linear(n_input_nodes, n_output_nodes), #Linear Layer\n",
        "    nn.Sigmoid() #Non-linear activation function\n",
        ")"
      ],
      "metadata": {
        "id": "uyKg_tvuBdFY"
      },
      "execution_count": null,
      "outputs": []
    },
    {
      "cell_type": "code",
      "source": [
        "# Test the model with example input\n",
        "x_input = torch.tensor([[1, 2.]])\n",
        "model_output = model(x_input)\n",
        "print(f\"input shape: {x_input.shape}\")\n",
        "print(f\"output shape: {y.shape}\")\n",
        "print(f\"output result: {y}\")"
      ],
      "metadata": {
        "colab": {
          "base_uri": "https://localhost:8080/"
        },
        "id": "WCgKSnSxC62e",
        "outputId": "300172a5-02a9-4b4a-f3e0-1f2704c9faad"
      },
      "execution_count": null,
      "outputs": [
        {
          "output_type": "stream",
          "name": "stdout",
          "text": [
            "input shape: torch.Size([1, 2])\n",
            "output shape: torch.Size([1, 3])\n",
            "output result: tensor([[0.4358, 0.7388, 0.0222]], grad_fn=<SigmoidBackward0>)\n"
          ]
        }
      ]
    },
    {
      "cell_type": "code",
      "source": [
        "# Define a model using subclassing\n",
        "\n",
        "class LinearWithSigmoidActivation(nn.Module):\n",
        "  def __init__(self, num_inputs, num_outputs):\n",
        "    super(LinearWithSigmoidActivation, self).__init__()\n",
        "    self.linear = nn.Linear(num_inputs, num_outputs)\n",
        "    self.activation = nn.Sigmoid()\n",
        "\n",
        "  def forward(self, inputs):\n",
        "    linear = self.linear(inputs)\n",
        "    output = self.activation(inputs)\n",
        "    return output"
      ],
      "metadata": {
        "id": "_gMv6GseDW-T"
      },
      "execution_count": null,
      "outputs": []
    },
    {
      "cell_type": "code",
      "source": [
        "n_input_nodes = 2\n",
        "n_output_nodes = 3\n",
        "model = LinearWithSigmoidActivation(n_input_nodes, n_output_nodes)\n",
        "x_input = torch.tensor([[1, 2.]])\n",
        "y = model(x_input)\n",
        "print(f\"input shape: {x_input.shape}\")\n",
        "print(f\"output shape: {y.shape}\")\n",
        "print(f\"output result: {y}\")"
      ],
      "metadata": {
        "colab": {
          "base_uri": "https://localhost:8080/"
        },
        "id": "og6t5nXvEPrn",
        "outputId": "b3429add-cca0-4b63-cac5-cbd0a76b264c"
      },
      "execution_count": null,
      "outputs": [
        {
          "output_type": "stream",
          "name": "stdout",
          "text": [
            "input shape: torch.Size([1, 2])\n",
            "output shape: torch.Size([1, 2])\n",
            "output result: tensor([[0.7311, 0.8808]])\n"
          ]
        }
      ]
    },
    {
      "cell_type": "code",
      "source": [
        "# Custom behavior with subclassing nn.Module\n",
        "\n",
        "class LinearButSometimesIdentity(nn.Module):\n",
        "  def __init__(self, num_inputs, num_outputs):\n",
        "    super(LinearButSometimesIdentity, self).__init__() #ensures that the parent class's initialization\n",
        "                                            # logic is executed before the subclass's own initialization.\n",
        "    self.linear = nn.Linear(num_inputs, num_outputs)\n",
        "\n",
        "  def forward(self, inputs, isidentity=False):\n",
        "\n",
        "    if isidentity:\n",
        "      # If True, return the input tensor unchanged.\n",
        "      return inputs\n",
        "\n",
        "    else:\n",
        "      # If False, apply the standard linear transformation.\n",
        "      return self.linear(inputs)\n"
      ],
      "metadata": {
        "id": "UuNcQV56Oiy_"
      },
      "execution_count": null,
      "outputs": []
    },
    {
      "cell_type": "code",
      "source": [
        "# --- Example Usage ---\n",
        "\n",
        "# 1. Setup the layer and some input data\n",
        "layer = LinearButSometimesIdentity(num_inputs=10, num_outputs=5)\n",
        "input_tensor = torch.randn(1, 10) # A single sample with 10 features\n",
        "\n",
        "# 2. Test the \"Linear Mode\" (isidentity is False by default)\n",
        "output_linear = layer(input_tensor)\n",
        "print(\"--- Linear Mode ---\")\n",
        "print(f\"Input shape:  {input_tensor.shape}\")\n",
        "print(f\"Output shape: {output_linear.shape}\")\n",
        "print(\"Output is a new, transformed tensor.\\n\")\n",
        "\n",
        "\n",
        "# 3. Test the \"Identity Mode\"\n",
        "output_identity = layer(input_tensor, isidentity=True)\n",
        "print(\"--- Identity Mode ---\")\n",
        "print(f\"Input shape:  {input_tensor.shape}\")\n",
        "print(f\"Output shape: {output_identity.shape}\")\n",
        "\n",
        "# Verify that the output is identical to the input\n",
        "print(f\"Are input and output identical? {torch.equal(input_tensor, output_identity)}\")"
      ],
      "metadata": {
        "colab": {
          "base_uri": "https://localhost:8080/"
        },
        "id": "riC9wiM6Q9ke",
        "outputId": "14e2bcb5-26ac-4a55-c7e5-73b91e866433"
      },
      "execution_count": null,
      "outputs": [
        {
          "output_type": "stream",
          "name": "stdout",
          "text": [
            "--- Linear Mode ---\n",
            "Input shape:  torch.Size([1, 10])\n",
            "Output shape: torch.Size([1, 5])\n",
            "Output is a new, transformed tensor.\n",
            "\n",
            "--- Identity Mode ---\n",
            "Input shape:  torch.Size([1, 10])\n",
            "Output shape: torch.Size([1, 10])\n",
            "Are input and output identical? True\n"
          ]
        }
      ]
    },
    {
      "cell_type": "markdown",
      "source": [
        "**Automatic Differentiation in PyTorch**"
      ],
      "metadata": {
        "id": "xkxpKpD7Rm11"
      }
    },
    {
      "cell_type": "code",
      "source": [
        "#Gradient computation\n",
        "\n",
        "# y = x^2\n",
        "# Ex: x = 3.0\n",
        "\n",
        "x = torch.tensor(3.0, requires_grad=True) #requires_grad=True on a tensor tells PyTorch\n",
        "   # to track all operations performed on that tensor, allowing for automatic\n",
        "   # differentiation (calculating gradients) during the training process\n",
        "\n",
        "y = x ** 2\n",
        "y.backward() #computing the gradient\n",
        "\n",
        "dy_dx = x.grad\n",
        "print(f\"dy_dx of y = x^2 at x = 3.0 is: {dy_dx}\")\n",
        "assert dy_dx == 6.0"
      ],
      "metadata": {
        "colab": {
          "base_uri": "https://localhost:8080/"
        },
        "id": "g8I9ZDYvRtMt",
        "outputId": "35cad937-2f5e-4cda-a65a-c9f5a3bdf4e1"
      },
      "execution_count": null,
      "outputs": [
        {
          "output_type": "stream",
          "name": "stdout",
          "text": [
            "dy_dx of y = x^2 at x = 3.0 is: 6.0\n"
          ]
        }
      ]
    },
    {
      "cell_type": "code",
      "source": [
        "# Function minimization with autograd and gradient descent\n",
        "\n",
        "#random value for the initial x\n",
        "x = torch.randn(1)\n",
        "print(f\"Initial value of x: {x.item()}\")\n",
        "\n",
        "learning_rate = 1e-2\n",
        "history = []\n",
        "x_f = 4 #Target Value\n",
        "\n",
        "# We will run gradient descent for a number of iterations. At each iteration, we compute the loss,\n",
        "#   compute the derivative of the loss with respect to x, and perform the update.\n",
        "\n",
        "for i in range(500):\n",
        "  x = torch.tensor([x], requires_grad=True)\n",
        "\n",
        "  #Compute the loss as the square of the difference between x and x_f\n",
        "  loss = torch.square(x - x_f)\n",
        "\n",
        "  #Backpropagate through the loss to compute the gradient of the loss with respect to x\n",
        "  loss.backward()\n",
        "\n",
        "  #update x with gradient descent\n",
        "  x = x.item() - learning_rate * x.grad\n",
        "\n",
        "  history.append(x.item())\n",
        "\n",
        "# Plot the evolution of x as we optimize toward x_f!\n",
        "plt.plot(history)\n",
        "plt.plot([0, 500], [x_f, x_f])\n",
        "plt.legend(('Predicted', 'True'))\n",
        "plt.xlabel('Iteration')\n",
        "plt.ylabel('x value')\n",
        "plt.show()"
      ],
      "metadata": {
        "colab": {
          "base_uri": "https://localhost:8080/",
          "height": 467
        },
        "id": "7xYFWOM-Tkrb",
        "outputId": "3fc7a843-df82-4d27-bfeb-bf8cd57b32ce"
      },
      "execution_count": null,
      "outputs": [
        {
          "output_type": "stream",
          "name": "stdout",
          "text": [
            "Initial value of x: -0.15535707771778107\n"
          ]
        },
        {
          "output_type": "display_data",
          "data": {
            "text/plain": [
              "<Figure size 640x480 with 1 Axes>"
            ],
            "image/png": "[encoded data removed]"
          },
          "metadata": {}
        }
      ]
    },
    {
      "cell_type": "markdown",
      "source": [
        "# Understanding Your Optimization Graph and Code\n",
        "\n",
        "Let's break down exactly what's happening in your example.\n",
        "\n",
        "## 1. What Happened in the Graph?\n",
        "\n",
        "The graph visually represents a process of **optimization** over 500 steps (iterations).\n",
        "\n",
        "* **The \"True\" Line (Orange):**\n",
        "    * This is a flat line at a value of `4.0`.\n",
        "    * It represents your constant, unchanging **target value** ($x_f$). This is the goal you want your variable to reach.\n",
        "\n",
        "* **The \"Predicted\" Line (Blue):**\n",
        "    * This line shows the value of your variable `x` at each iteration.\n",
        "    * It starts at a random value near zero.\n",
        "    * In the beginning, it rises very quickly, making large progress toward the target.\n",
        "    * As it gets closer to `4.0`, the line gets flatter, and the progress slows down, indicating finer adjustments.\n",
        "    * By the end of the 500 iterations, the \"Predicted\" value is extremely close to the \"True\" value of `4.0`.\n",
        "\n",
        "In short, the graph shows a variable `x` starting at a random point and intelligently \"learning\" to become `4.0` over time.\n",
        "\n",
        "## 2. What Did The Code Do? (Step-by-Step)\n",
        "\n",
        "Your code tells the computer to find the value of `x` that minimizes the distance to a target `x_f`. It does this without being explicitly told \"the answer is 4,\" but by \"feeling\" its way toward the answer.\n",
        "\n",
        "Here is the breakdown of the process, which is called **Gradient Descent**:\n",
        "\n",
        "* **The Goal:** Make the `loss` as small as possible. The `loss` is defined as $(x - x_f)^2$. The only way to make this loss zero is for `x` to be equal to `x_f`.\n",
        "\n",
        "* **The Analogy:** Imagine you are on a mountain in a thick fog, and you want to get to the lowest point in the valley. You can't see the valley, but you can feel the slope of the ground right under your feet.\n",
        "    * `x` is your current position on the mountainside.\n",
        "    * `loss` is your current altitude. A high loss means you're high up the mountain.\n",
        "    * The `gradient` (`x.grad`) is the direction of the steepest uphill slope from where you are standing.\n",
        "    * To get to the valley (lowest loss), you must take a small step in the exact opposite direction of the gradient (i.e., you take a step downhill).\n",
        "\n",
        "This is what the loop does 500 times:\n",
        "\n",
        "1.  `x = torch.tensor([x], requires_grad=True)`:\n",
        "    * Prepares your variable `x` for the calculation.\n",
        "    * Crucially, `requires_grad=True` tells PyTorch: \"Keep track of all operations involving `x`, because I will need to know how `x` affects the final result (the loss).\"\n",
        "\n",
        "2.  `loss = torch.square(x - x_f)`:\n",
        "    * Calculates your \"altitude\" (the error).\n",
        "    * If your current `x` is 1 and the target `x_f` is 4, the loss is $(1-4)^2 = 9$.\n",
        "    * If `x` is 3.9, the loss is $(3.9-4)^2 = 0.01$.\n",
        "    * The further you are from the target, the larger the loss.\n",
        "\n",
        "3.  `loss.backward()`:\n",
        "    * This is the magic of PyTorch (and automatic differentiation). It automatically calculates the derivative (the **gradient**) of the `loss` with respect to `x`. This tells you the direction of steepest ascent (uphill).\n",
        "    * For the loss function $(x-4)^2$, the derivative is $2(x-4)$. This gradient value is stored in `x.grad`.\n",
        "    * **Why this matters:**\n",
        "        * If `x` is 1, the gradient is $2(1-4) = -6$. The negative sign tells you that increasing `x` will *decrease* the loss.\n",
        "        * If `x` is 5, the gradient is $2(5-4) = 2$. The positive sign tells you that *decreasing* `x` will decrease the loss.\n",
        "        * The gradient always points you in the right direction!\n",
        "\n",
        "4.  `x = x.item() - learning_rate * x.grad`:\n",
        "    * This is the **update step** where you take a step downhill.\n",
        "    * You take your current position (`x.item()`).\n",
        "    * You move in the **opposite direction** of the gradient (`- x.grad`).\n",
        "    * `learning_rate` (`0.01` in your code) is your **step size**. It controls how big of a step you take. This is important: too big a step and you might overshoot the valley; too small and it will take too long to get there.\n",
        "\n",
        "5.  `history.append(x.item())`:\n",
        "    * You record your new position after taking the step. This list is then used to plot the blue line.\n",
        "\n",
        "## 3. What Is It Used For?\n",
        "\n",
        "This simple example demonstrates the fundamental engine that powers nearly all of modern AI and deep learning.\n",
        "\n",
        "While finding the value 4 is trivial for a human, this exact same process is used to train massive, complex neural networks like ChatGPT, Midjourney, or the models in your phone's camera.\n",
        "\n",
        "* Instead of one parameter `x`, a neural network has millions or billions of parameters (often called **weights and biases**).\n",
        "* Instead of a simple loss function $(x-4)^2$, the loss function measures how \"wrong\" the network's predictions are compared to real-world data (e.g., how badly it misclassifies an image of a cat or how inaccurate its translation of a sentence is).\n",
        "\n",
        "The process is identical: The model makes a prediction, the loss (error) is calculated, `loss.backward()` computes the gradient for all million parameters simultaneously, and then every single parameter is updated slightly using the gradient descent rule.\n",
        "\n",
        "This is repeated millions of times with vast amounts of data, and with each tiny step, the network gets progressively less \"wrong\" and more accurate. Your code is the \"Hello, World!\" of how machines learn from error."
      ],
      "metadata": {
        "id": "57HgVdSMWv3U"
      }
    },
    {
      "cell_type": "markdown",
      "source": [
        "# **Intro to TensorFlow**"
      ],
      "metadata": {
        "id": "FWKxqwA2hIu4"
      }
    },
    {
      "cell_type": "code",
      "source": [
        "import tensorflow as tf\n",
        "\n",
        "# !pip install mitdeeplearning --quiet\n",
        "# import mitdeeplearning as mdl\n",
        "\n",
        "import numpy as np\n",
        "import matplotlib.pyplot as plt"
      ],
      "metadata": {
        "id": "NsgrXnjbhNH1"
      },
      "execution_count": 3,
      "outputs": []
    },
    {
      "cell_type": "code",
      "source": [
        "# 0-D\n",
        "sport = tf.constant(\"Tennis\", tf.string)\n",
        "number = tf.constant(1.41421356237, tf.float64)\n",
        "\n",
        "print(\"`sport` is a {}-d Tensor\".format(tf.rank(sport).numpy()))\n",
        "print(\"`number` is a {}-d Tensor\".format(tf.rank(number).numpy()))"
      ],
      "metadata": {
        "colab": {
          "base_uri": "https://localhost:8080/"
        },
        "id": "vcSrLRCihivs",
        "outputId": "adef648f-246f-4013-97d0-2d9041f55a3b"
      },
      "execution_count": null,
      "outputs": [
        {
          "output_type": "stream",
          "name": "stdout",
          "text": [
            "`sport` is a 0-d Tensor\n",
            "`number` is a 0-d Tensor\n"
          ]
        }
      ]
    },
    {
      "cell_type": "code",
      "source": [
        "# 1-D\n",
        "sports = tf.constant([\"Tennis\", \"Basketball\"], tf.string)\n",
        "numbers = tf.constant([3.141592, 1.414213, 2.71821], tf.float64)\n",
        "\n",
        "print(\"`sports` is a {}-d Tensor with shape: {}\".format(tf.rank(sports).numpy(), tf.shape(sports)))\n",
        "print(\"`numbers` is a {}-d Tensor with shape: {}\".format(tf.rank(numbers).numpy(), tf.shape(numbers)))"
      ],
      "metadata": {
        "colab": {
          "base_uri": "https://localhost:8080/"
        },
        "id": "owukf-jJhusv",
        "outputId": "cf907070-d613-407f-e5df-5867c6df2ce8"
      },
      "execution_count": null,
      "outputs": [
        {
          "output_type": "stream",
          "name": "stdout",
          "text": [
            "`sports` is a 1-d Tensor with shape: [2]\n",
            "`numbers` is a 1-d Tensor with shape: [3]\n"
          ]
        }
      ]
    },
    {
      "cell_type": "code",
      "source": [
        "# high-order Tensors (matrix)\n",
        "\n",
        "# 2-D\n",
        "matrix = tf.constant([[1, 2, 3], [4, 5, 6]])\n",
        "\n",
        "assert isinstance(matrix, tf.Tensor), \"matrix must be a tf Tensor object\"\n",
        "assert tf.rank(matrix).numpy() == 2"
      ],
      "metadata": {
        "id": "caTq7NPvh9LX"
      },
      "execution_count": null,
      "outputs": []
    },
    {
      "cell_type": "code",
      "source": [
        "# 4-D\n",
        "images = tf.zeros([10, 256, 256, 3])  # shape = (10, 256, 256, 3)\n",
        "\n",
        "assert isinstance(images, tf.Tensor), \"matrix must be a tf Tensor object\"\n",
        "assert tf.rank(images).numpy() == 4, \"matrix must be of rank 4\"\n",
        "assert tf.shape(images).numpy().tolist() == [10, 256, 256, 3], \"matrix is incorrect shape\""
      ],
      "metadata": {
        "id": "Po7qMqPEiaGM"
      },
      "execution_count": null,
      "outputs": []
    },
    {
      "cell_type": "code",
      "source": [
        "row_vector = matrix[1]\n",
        "column_vector = matrix[:,1]\n",
        "scalar = matrix[0, 1]\n",
        "\n",
        "print(\"`row_vector`: {}\".format(row_vector.numpy()))\n",
        "print(\"`column_vector`: {}\".format(column_vector.numpy()))\n",
        "print(\"`scalar`: {}\".format(scalar.numpy()))"
      ],
      "metadata": {
        "colab": {
          "base_uri": "https://localhost:8080/"
        },
        "id": "V9Giv_dLjKbe",
        "outputId": "eea44163-c6f7-4151-c17c-4f5b6ca43970"
      },
      "execution_count": null,
      "outputs": [
        {
          "output_type": "stream",
          "name": "stdout",
          "text": [
            "`row_vector`: [4 5 6]\n",
            "`column_vector`: [2 5]\n",
            "`scalar`: 2\n"
          ]
        }
      ]
    },
    {
      "cell_type": "code",
      "source": [
        "a = tf.constant(15)\n",
        "b = tf.constant(20)\n",
        "\n",
        "c = tf.add(a, b)\n",
        "c2 = a + b\n",
        "\n",
        "print(c.numpy())\n",
        "print(c2.numpy())\n",
        "\n",
        "\n",
        "d = tf.subtract(b, 5)\n",
        "e = tf.multiply(c, d)\n",
        "\n",
        "print(\"d:\", d.numpy())\n",
        "print(\"e:\", e.numpy())"
      ],
      "metadata": {
        "colab": {
          "base_uri": "https://localhost:8080/"
        },
        "id": "9qZeOqXRjK3f",
        "outputId": "1f2104b1-ed9f-4a11-dfe7-a2c950423f96"
      },
      "execution_count": null,
      "outputs": [
        {
          "output_type": "stream",
          "name": "stdout",
          "text": [
            "35\n",
            "35\n",
            "d: 15\n",
            "e: 525\n"
          ]
        }
      ]
    },
    {
      "cell_type": "code",
      "source": [
        "def func(a, b):\n",
        "\n",
        "  c = tf.add(a, b)\n",
        "  d = tf.subtract(b, 1)\n",
        "  e = tf.multiply(c, d)\n",
        "\n",
        "  return e\n",
        "\n",
        "\n",
        "a = tf.constant(2)\n",
        "b = tf.constant(3)\n",
        "\n",
        "e = func(a, b)\n",
        "print(e.numpy())"
      ],
      "metadata": {
        "colab": {
          "base_uri": "https://localhost:8080/"
        },
        "id": "Dk0EU2dRjmgs",
        "outputId": "5f897133-f413-4da9-8d24-d08f6a81fcaf"
      },
      "execution_count": null,
      "outputs": [
        {
          "output_type": "stream",
          "name": "stdout",
          "text": [
            "10\n"
          ]
        }
      ]
    },
    {
      "cell_type": "code",
      "source": [
        "# Consider example values for a,b\n",
        "a, b = 1.5, 2.5\n",
        "# Execute the computation\n",
        "e_out = func(a,b)\n",
        "print(e_out)"
      ],
      "metadata": {
        "colab": {
          "base_uri": "https://localhost:8080/"
        },
        "id": "0pxrTSEvkKzl",
        "outputId": "5457c9ee-8fd6-4963-9f37-4262d809dfe2"
      },
      "execution_count": null,
      "outputs": [
        {
          "output_type": "stream",
          "name": "stdout",
          "text": [
            "tf.Tensor(6.0, shape=(), dtype=float32)\n"
          ]
        }
      ]
    },
    {
      "cell_type": "markdown",
      "source": [
        "# NN in TensorFlow"
      ],
      "metadata": {
        "id": "JGsOKknRkM3H"
      }
    },
    {
      "cell_type": "markdown",
      "source": [
        "TensorFlow uses a high-level API called Keras that provides a powerful, intuitive framework for building and training deep learning models."
      ],
      "metadata": {
        "id": "lSt1QJJLblUY"
      }
    },
    {
      "cell_type": "code",
      "source": [
        "# Defining a network layer\n",
        "\n",
        "class OurDenseLayer(tf.keras.layers.Layer):\n",
        "  def __init__(self, n_output_nodes):\n",
        "    super(OurDenseLayer, self).__init__()\n",
        "    self.n_output_nodes = n_output_nodes\n",
        "\n",
        "  def build(self, input_shape):\n",
        "    d = int(input_shape[-1])\n",
        "    # Define and initialize parameters: a weight matrix W and bias b\n",
        "    # Note that parameter initialization is random!\n",
        "    self.W = self.add_weight(\n",
        "        name=\"W\",                                 # give it a clear name\n",
        "        shape=(d, self.n_output_nodes),           # rows = input dim, cols = output dim\n",
        "        initializer=\"glorot_uniform\",             # or any initializer you like\n",
        "        trainable=True\n",
        "    )\n",
        "\n",
        "    self.b = self.add_weight(\n",
        "        name=\"b\",\n",
        "        shape=(self.n_output_nodes,),             # 1‑D bias, one per output node\n",
        "        initializer=\"zeros\",\n",
        "        trainable=True\n",
        "    )\n",
        "\n",
        "  def call(self, x):\n",
        "    '''TODO: define the operation for z (hint: use tf.matmul)'''\n",
        "    z = tf.matmul(x, self.W) + self.b\n",
        "\n",
        "    '''TODO: define the operation for out (hint: use tf.sigmoid)'''\n",
        "    y = tf.sigmoid(z)\n",
        "    return y"
      ],
      "metadata": {
        "id": "3XWQPA-pkRpl"
      },
      "execution_count": 6,
      "outputs": []
    },
    {
      "cell_type": "code",
      "source": [
        "tf.keras.utils.set_random_seed(1)\n",
        "layer = OurDenseLayer(3)\n",
        "layer.build((1,2))\n",
        "x_input = tf.constant([[1,2.]], shape=(1,2))\n",
        "y = layer.call(x_input)\n",
        "\n",
        "# test the output!\n",
        "print(y.numpy())"
      ],
      "metadata": {
        "colab": {
          "base_uri": "https://localhost:8080/"
        },
        "id": "Gzhb-Ylhcl2h",
        "outputId": "66d5a727-5263-4927-e56b-99ae01743dbe"
      },
      "execution_count": 8,
      "outputs": [
        {
          "output_type": "stream",
          "name": "stdout",
          "text": [
            "[[0.22883518 0.22115576 0.32149363]]\n"
          ]
        }
      ]
    },
    {
      "cell_type": "code",
      "source": [
        "# Defining a neural network using the Sequential API\n",
        "from tensorflow.keras import Sequential\n",
        "from tensorflow.keras.layers import Dense\n",
        "\n",
        "n_output_nodes = 3\n",
        "\n",
        "# First define the model\n",
        "model = Sequential()\n",
        "\n",
        "'''TODO: Define a dense (fully connected) layer to compute z'''\n",
        "dense_layer = Dense(n_output_nodes, activation=\"sigmoid\")\n",
        "\n",
        "# Add the dense layer to the model\n",
        "model.add(dense_layer)"
      ],
      "metadata": {
        "id": "fyrF7DCwdSyO"
      },
      "execution_count": 9,
      "outputs": []
    },
    {
      "cell_type": "code",
      "source": [
        "# Test model with example input\n",
        "x_input = tf.constant([[1,2.]], shape=(1,2))\n",
        "\n",
        "'''TODO: feed input into the model and predict the output!'''\n",
        "model_output = dense_layer(x_input)\n",
        "print(model_output)"
      ],
      "metadata": {
        "colab": {
          "base_uri": "https://localhost:8080/"
        },
        "id": "_QXM83VCdpMP",
        "outputId": "1ea5f523-2b44-4bcf-a2cc-a2b02112958e"
      },
      "execution_count": 13,
      "outputs": [
        {
          "output_type": "stream",
          "name": "stdout",
          "text": [
            "tf.Tensor([[0.6172473 0.2669089 0.675712 ]], shape=(1, 3), dtype=float32)\n"
          ]
        }
      ]
    },
    {
      "cell_type": "code",
      "source": [
        "# Defining a model using subclassing\n",
        "\n",
        "from tensorflow.keras import Model\n",
        "from tensorflow.keras.layers import Dense\n",
        "\n",
        "class SubclassModel(tf.keras.Model):\n",
        "\n",
        "  # In __init__, we define the Model's layers\n",
        "  def __init__(self, n_output_nodes):\n",
        "    super(SubclassModel, self).__init__()\n",
        "    '''TODO: Our model consists of a single Dense layer. Define this layer.'''\n",
        "    self.dense_layer = Dense(n_output_nodes, activation=\"sigmoid\")\n",
        "\n",
        "  # In the call function, we define the Model's forward pass.\n",
        "  def call(self, inputs):\n",
        "    return self.dense_layer(inputs)"
      ],
      "metadata": {
        "id": "aV12J6Qrd2Bc"
      },
      "execution_count": 15,
      "outputs": []
    },
    {
      "cell_type": "code",
      "source": [
        "n_output_nodes = 3\n",
        "model = SubclassModel(n_output_nodes)\n",
        "\n",
        "x_input = tf.constant([[1,2.]], shape=(1,2))\n",
        "\n",
        "print(model.call(x_input))"
      ],
      "metadata": {
        "colab": {
          "base_uri": "https://localhost:8080/"
        },
        "id": "yabXt-IXd8e7",
        "outputId": "7550528c-cf4f-400e-bb3b-830494d9512a"
      },
      "execution_count": 16,
      "outputs": [
        {
          "output_type": "stream",
          "name": "stdout",
          "text": [
            "tf.Tensor([[0.18752207 0.23909676 0.3213029 ]], shape=(1, 3), dtype=float32)\n"
          ]
        }
      ]
    },
    {
      "cell_type": "code",
      "source": [
        "# Defining a model using subclassing and specifying custom behavior\n",
        "\n",
        "from tensorflow.keras import Model\n",
        "from tensorflow.keras.layers import Dense\n",
        "\n",
        "class IdentityModel(tf.keras.Model):\n",
        "\n",
        "  # As before, in __init__ we define the Model's layers\n",
        "  # Since our desired behavior involves the forward pass, this part is unchanged\n",
        "  def __init__(self, n_output_nodes):\n",
        "    super(IdentityModel, self).__init__()\n",
        "    self.dense_layer = tf.keras.layers.Dense(n_output_nodes, activation='sigmoid')\n",
        "\n",
        "  '''TODO: Implement the behavior where the network outputs the input, unchanged, under control of the isidentity argument.'''\n",
        "  def call(self, inputs, isidentity=False):\n",
        "      if isidentity:\n",
        "      # If True, return the input tensor unchanged.\n",
        "        return inputs\n",
        "\n",
        "      else:\n",
        "      # If False, apply the standard linear transformation.\n",
        "        return self.dense_layer(inputs)"
      ],
      "metadata": {
        "id": "sHtJfn2feBwR"
      },
      "execution_count": 17,
      "outputs": []
    },
    {
      "cell_type": "code",
      "source": [
        "n_output_nodes = 3\n",
        "model = IdentityModel(n_output_nodes)\n",
        "\n",
        "x_input = tf.constant([[1,2.]], shape=(1,2))\n",
        "'''TODO: pass the input into the model and call with and without the input identity option.'''\n",
        "out_activate = model.call(x_input)\n",
        "out_identity = model.call(x_input, isidentity=True)\n",
        "\n",
        "print(\"Network output with activation: {}; network identity output: {}\".format(out_activate.numpy(), out_identity.numpy()))"
      ],
      "metadata": {
        "colab": {
          "base_uri": "https://localhost:8080/"
        },
        "id": "FT2mP16MeemQ",
        "outputId": "9c7e5b2d-64a2-41ee-cf35-0e85184ea8a3"
      },
      "execution_count": 19,
      "outputs": [
        {
          "output_type": "stream",
          "name": "stdout",
          "text": [
            "Network output with activation: [[0.82794297 0.155684   0.567044  ]]; network identity output: [[1. 2.]]\n"
          ]
        }
      ]
    },
    {
      "cell_type": "code",
      "source": [
        "# Gradient computation with GradientTape\n",
        "\n",
        "# y = x^2\n",
        "# Example: x = 3.0\n",
        "x = tf.Variable(3.0)\n",
        "\n",
        "# Initiate the gradient tape\n",
        "with tf.GradientTape() as tape:\n",
        "  # Define the function\n",
        "  y = x * x\n",
        "# Access the gradient -- derivative of y with respect to x\n",
        "dy_dx = tape.gradient(y, x)\n",
        "\n",
        "assert dy_dx.numpy() == 6.0"
      ],
      "metadata": {
        "id": "6J7DRHmOepOb"
      },
      "execution_count": 20,
      "outputs": []
    },
    {
      "cell_type": "code",
      "source": [
        "# Function minimization with automatic differentiation and SGD ###\n",
        "\n",
        "# Initialize a random value for our initial x\n",
        "x = tf.Variable([tf.random.normal([1])])\n",
        "print(\"Initializing x={}\".format(x.numpy()))\n",
        "\n",
        "learning_rate = 1e-2 # learning rate for SGD\n",
        "history = []\n",
        "# Define the target value\n",
        "x_f = 4\n",
        "\n",
        "# We will run SGD for a number of iterations. At each iteration, we compute the loss,\n",
        "#   compute the derivative of the loss with respect to x, and perform the SGD update.\n",
        "for i in range(500):\n",
        "  with tf.GradientTape() as tape:\n",
        "    '''TODO: define the loss as described above'''\n",
        "    loss = tf.square(x - x_f)\n",
        "\n",
        "  # loss minimization using gradient tape\n",
        "  grad = tape.gradient(loss, x) # compute the derivative of the loss with respect to x\n",
        "  new_x = x - learning_rate*grad # sgd update\n",
        "  x.assign(new_x) # update the value of x\n",
        "  history.append(x.numpy()[0])\n",
        "\n",
        "# Plot the evolution of x as we optimize towards x_f!\n",
        "plt.plot(history)\n",
        "plt.plot([0, 500],[x_f,x_f])\n",
        "plt.legend(('Predicted', 'True'))\n",
        "plt.xlabel('Iteration')\n",
        "plt.ylabel('x value')"
      ],
      "metadata": {
        "colab": {
          "base_uri": "https://localhost:8080/",
          "height": 486
        },
        "id": "QbBkX5EZevNk",
        "outputId": "26e905cd-8399-4171-c640-55fc1cc5943e"
      },
      "execution_count": 22,
      "outputs": [
        {
          "output_type": "stream",
          "name": "stdout",
          "text": [
            "Initializing x=[[0.40308788]]\n"
          ]
        },
        {
          "output_type": "execute_result",
          "data": {
            "text/plain": [
              "Text(0, 0.5, 'x value')"
            ]
          },
          "metadata": {},
          "execution_count": 22
        },
        {
          "output_type": "display_data",
          "data": {
            "text/plain": [
              "<Figure size 640x480 with 1 Axes>"
            ],
            "image/png": "[encoded data removed]"
          },
          "metadata": {}
        }
      ]
    }
  ]
}